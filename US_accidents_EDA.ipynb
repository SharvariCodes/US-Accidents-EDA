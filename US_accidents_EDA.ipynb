{
  "nbformat": 4,
  "nbformat_minor": 0,
  "metadata": {
    "colab": {
      "provenance": [],
      "authorship_tag": "ABX9TyNsxpddtgLgRujJB81XzCF5",
      "include_colab_link": true
    },
    "kernelspec": {
      "name": "python3",
      "display_name": "Python 3"
    },
    "language_info": {
      "name": "python"
    },
    "accelerator": "GPU",
    "gpuClass": "standard"
  },
  "cells": [
    {
      "cell_type": "markdown",
      "metadata": {
        "id": "view-in-github",
        "colab_type": "text"
      },
      "source": [
        "<a href=\"https://colab.research.google.com/github/SharvariCodes/US-Accidents-EDA/blob/main/US_accidents_EDA.ipynb\" target=\"_parent\"><img src=\"https://colab.research.google.com/assets/colab-badge.svg\" alt=\"Open In Colab\"/></a>"
      ]
    },
    {
      "cell_type": "code",
      "source": [
        "aa!nvidia-smi"
      ],
      "metadata": {
        "colab": {
          "base_uri": "https://localhost:8080/"
        },
        "id": "KV-elIjXkydA",
        "outputId": "33178f12-fd50-49cc-cc50-079a4a7250fc"
      },
      "execution_count": null,
      "outputs": [
        {
          "output_type": "stream",
          "name": "stdout",
          "text": [
            "Fri Jan 27 09:50:17 2023       \n",
            "+-----------------------------------------------------------------------------+\n",
            "| NVIDIA-SMI 510.47.03    Driver Version: 510.47.03    CUDA Version: 11.6     |\n",
            "|-------------------------------+----------------------+----------------------+\n",
            "| GPU  Name        Persistence-M| Bus-Id        Disp.A | Volatile Uncorr. ECC |\n",
            "| Fan  Temp  Perf  Pwr:Usage/Cap|         Memory-Usage | GPU-Util  Compute M. |\n",
            "|                               |                      |               MIG M. |\n",
            "|===============================+======================+======================|\n",
            "|   0  Tesla T4            Off  | 00000000:00:04.0 Off |                    0 |\n",
            "| N/A   45C    P0    26W /  70W |      0MiB / 15360MiB |      0%      Default |\n",
            "|                               |                      |                  N/A |\n",
            "+-------------------------------+----------------------+----------------------+\n",
            "                                                                               \n",
            "+-----------------------------------------------------------------------------+\n",
            "| Processes:                                                                  |\n",
            "|  GPU   GI   CI        PID   Type   Process name                  GPU Memory |\n",
            "|        ID   ID                                                   Usage      |\n",
            "|=============================================================================|\n",
            "|  No running processes found                                                 |\n",
            "+-----------------------------------------------------------------------------+\n"
          ]
        }
      ]
    },
    {
      "cell_type": "markdown",
      "source": [
        "## **Preparing for the downloads of the dataset**"
      ],
      "metadata": {
        "id": "2yGFeOc5WGbw"
      }
    },
    {
      "cell_type": "markdown",
      "source": [
        "* list the assumptions here.\n",
        "\n",
        "1. data of all the 50/52 states is not present. hence, some of the states are left out during the analysis."
      ],
      "metadata": {
        "id": "msj64yqEMYHF"
      }
    },
    {
      "cell_type": "code",
      "execution_count": null,
      "metadata": {
        "colab": {
          "base_uri": "https://localhost:8080/"
        },
        "id": "2gTL7V-8Ui_I",
        "outputId": "2f922a11-9790-4cf5-c2d4-cf94f356e95a"
      },
      "outputs": [
        {
          "output_type": "stream",
          "name": "stdout",
          "text": [
            "/usr/local/lib/python3.8/dist-packages/gdown/cli.py:127: FutureWarning: Option `--id` was deprecated in version 4.3.1 and will be removed in 5.0. You don't need to pass it anymore to use a file ID.\n",
            "  warnings.warn(\n",
            "Downloading...\n",
            "From: https://drive.google.com/uc?id=1wtmhEgaiHXZ8FD93Bnabe_gPBX6UgMIT\n",
            "To: /content/kaggle.json\n",
            "100% 74.0/74.0 [00:00<00:00, 117kB/s]\n"
          ]
        }
      ],
      "source": [
        "# kaggle json api key\n",
        "!gdown --id 1wtmhEgaiHXZ8FD93Bnabe_gPBX6UgMIT"
      ]
    },
    {
      "cell_type": "code",
      "source": [
        "!ls /content"
      ],
      "metadata": {
        "colab": {
          "base_uri": "https://localhost:8080/"
        },
        "id": "3FrZK5i-Y5wk",
        "outputId": "e3628d02-458a-4c39-c1f7-12b1aff791d1"
      },
      "execution_count": null,
      "outputs": [
        {
          "output_type": "stream",
          "name": "stdout",
          "text": [
            "kaggle.json  sample_data\n"
          ]
        }
      ]
    },
    {
      "cell_type": "code",
      "source": [
        "!mkdir /root/.kaggle\n",
        "!cp /content/kaggle.json /root/.kaggle/kaggle.json\n",
        "\n",
        " #Copy kaggle.json to the required dir"
      ],
      "metadata": {
        "id": "X-0etMBUWTLS"
      },
      "execution_count": null,
      "outputs": []
    },
    {
      "cell_type": "code",
      "source": [
        "!ls ~/.kaggle/"
      ],
      "metadata": {
        "colab": {
          "base_uri": "https://localhost:8080/"
        },
        "id": "qt2qihobZ61e",
        "outputId": "c009a51f-daab-4574-d26b-42ce477df192"
      },
      "execution_count": null,
      "outputs": [
        {
          "output_type": "stream",
          "name": "stdout",
          "text": [
            "kaggle.json\n"
          ]
        }
      ]
    },
    {
      "cell_type": "code",
      "source": [
        "!ls -l ~/.kaggle/"
      ],
      "metadata": {
        "colab": {
          "base_uri": "https://localhost:8080/"
        },
        "id": "YthmI4IDZ86t",
        "outputId": "2f7ac768-4150-41b2-ab31-58ce7d780bc4"
      },
      "execution_count": null,
      "outputs": [
        {
          "output_type": "stream",
          "name": "stdout",
          "text": [
            "total 4\n",
            "-rw-r--r-- 1 root root 74 Jan 25 17:32 kaggle.json\n"
          ]
        }
      ]
    },
    {
      "cell_type": "code",
      "source": [
        "!ls -a /root"
      ],
      "metadata": {
        "colab": {
          "base_uri": "https://localhost:8080/"
        },
        "id": "p3gmFB25aKFM",
        "outputId": "6bf22ed5-dcb8-4a13-c1b6-010eba82d62c"
      },
      "execution_count": null,
      "outputs": [
        {
          "output_type": "stream",
          "name": "stdout",
          "text": [
            ".   .bashrc  .config   .jupyter  .keras  .npm\t   .tmux.conf\n",
            "..  .cache   .ipython  .kaggle\t .local  .profile  .wget-hsts\n"
          ]
        }
      ]
    },
    {
      "cell_type": "code",
      "source": [
        "!ls -la ~/.kaggle/"
      ],
      "metadata": {
        "colab": {
          "base_uri": "https://localhost:8080/"
        },
        "id": "WgxcGT0-Z-Gn",
        "outputId": "828158a9-9860-4d14-952c-bd87600ff1e7"
      },
      "execution_count": null,
      "outputs": [
        {
          "output_type": "stream",
          "name": "stdout",
          "text": [
            "total 16\n",
            "drwxr-xr-x 2 root root 4096 Jan 24 11:25 .\n",
            "drwx------ 1 root root 4096 Jan 24 11:25 ..\n",
            "-rw-r--r-- 1 root root   74 Jan 24 11:25 kaggle.json\n"
          ]
        }
      ]
    },
    {
      "cell_type": "code",
      "source": [
        "!ls -lah ~/.kaggle/"
      ],
      "metadata": {
        "colab": {
          "base_uri": "https://localhost:8080/"
        },
        "id": "c5w_lpreZ_A1",
        "outputId": "417d5e97-be65-4bee-bdbe-03e7cbcb26a4"
      },
      "execution_count": null,
      "outputs": [
        {
          "output_type": "stream",
          "name": "stdout",
          "text": [
            "total 16K\n",
            "drwxr-xr-x 2 root root 4.0K Jan 24 11:25 .\n",
            "drwx------ 1 root root 4.0K Jan 24 11:25 ..\n",
            "-rw-r--r-- 1 root root   74 Jan 24 11:25 kaggle.json\n"
          ]
        }
      ]
    },
    {
      "cell_type": "code",
      "source": [
        "!ls -lah ~/.kaggle/"
      ],
      "metadata": {
        "colab": {
          "base_uri": "https://localhost:8080/"
        },
        "id": "0Xktx0LLXUVO",
        "outputId": "a3451928-b09c-4e05-97d6-cbedce6b6f60"
      },
      "execution_count": null,
      "outputs": [
        {
          "output_type": "stream",
          "name": "stdout",
          "text": [
            "total 16K\n",
            "drwxr-xr-x 2 root root 4.0K Jan 24 11:25 .\n",
            "drwx------ 1 root root 4.0K Jan 24 11:25 ..\n",
            "-rw-r--r-- 1 root root   74 Jan 24 11:25 kaggle.json\n"
          ]
        }
      ]
    },
    {
      "cell_type": "markdown",
      "source": [
        "## **Downloading the dataset from kaggle**"
      ],
      "metadata": {
        "id": "QHuBlX7SbHzT"
      }
    },
    {
      "cell_type": "code",
      "source": [
        "!kaggle datasets download sobhanmoosavi/us-accidents"
      ],
      "metadata": {
        "colab": {
          "base_uri": "https://localhost:8080/"
        },
        "id": "gKagOEGAZmfC",
        "outputId": "21335352-c75a-437c-9eb1-0287e943df12"
      },
      "execution_count": null,
      "outputs": [
        {
          "output_type": "stream",
          "name": "stdout",
          "text": [
            "Warning: Your Kaggle API key is readable by other users on this system! To fix this, you can run 'chmod 600 /root/.kaggle/kaggle.json'\n",
            "Downloading us-accidents.zip to /content\n",
            " 94% 253M/269M [00:01<00:00, 182MB/s]\n",
            "100% 269M/269M [00:01<00:00, 176MB/s]\n"
          ]
        }
      ]
    },
    {
      "cell_type": "code",
      "source": [
        "!unzip us-accidents"
      ],
      "metadata": {
        "colab": {
          "base_uri": "https://localhost:8080/"
        },
        "id": "w_gMQb2FbUFy",
        "outputId": "02dda92f-6f32-48a2-d702-37104ff6282c"
      },
      "execution_count": null,
      "outputs": [
        {
          "output_type": "stream",
          "name": "stdout",
          "text": [
            "Archive:  us-accidents.zip\n",
            "  inflating: US_Accidents_Dec21_updated.csv  \n"
          ]
        }
      ]
    },
    {
      "cell_type": "markdown",
      "source": [
        "## **Data Preparation and Cleaning**\n",
        "\n",
        "  1. Load the file using Pandas\n",
        "  2. Look at information about the data and the columns, basically what the data is communicating to us.\n",
        "  3. Fix any missing or incorrect values."
      ],
      "metadata": {
        "id": "lLvbX9MibsLc"
      }
    },
    {
      "cell_type": "code",
      "source": [
        "import pandas as pd\n",
        "import numpy as np"
      ],
      "metadata": {
        "id": "0xatJWhJbjOH"
      },
      "execution_count": null,
      "outputs": []
    },
    {
      "cell_type": "code",
      "source": [
        "df = pd.read_csv('US_Accidents_Dec21_updated.csv')"
      ],
      "metadata": {
        "id": "FNrh1Tb4eytZ"
      },
      "execution_count": null,
      "outputs": []
    },
    {
      "cell_type": "code",
      "source": [
        "df.columns"
      ],
      "metadata": {
        "colab": {
          "base_uri": "https://localhost:8080/"
        },
        "id": "5nEHtgF4fBqq",
        "outputId": "ecafb0cf-810e-436b-9b84-5f0a04655039"
      },
      "execution_count": null,
      "outputs": [
        {
          "output_type": "execute_result",
          "data": {
            "text/plain": [
              "Index(['ID', 'Severity', 'Start_Time', 'End_Time', 'Start_Lat', 'Start_Lng',\n",
              "       'End_Lat', 'End_Lng', 'Distance(mi)', 'Description', 'Number', 'Street',\n",
              "       'Side', 'City', 'County', 'State', 'Zipcode', 'Country', 'Timezone',\n",
              "       'Airport_Code', 'Weather_Timestamp', 'Temperature(F)', 'Wind_Chill(F)',\n",
              "       'Humidity(%)', 'Pressure(in)', 'Visibility(mi)', 'Wind_Direction',\n",
              "       'Wind_Speed(mph)', 'Precipitation(in)', 'Weather_Condition', 'Amenity',\n",
              "       'Bump', 'Crossing', 'Give_Way', 'Junction', 'No_Exit', 'Railway',\n",
              "       'Roundabout', 'Station', 'Stop', 'Traffic_Calming', 'Traffic_Signal',\n",
              "       'Turning_Loop', 'Sunrise_Sunset', 'Civil_Twilight', 'Nautical_Twilight',\n",
              "       'Astronomical_Twilight'],\n",
              "      dtype='object')"
            ]
          },
          "metadata": {},
          "execution_count": 8
        }
      ]
    },
    {
      "cell_type": "code",
      "source": [
        "df.info()"
      ],
      "metadata": {
        "colab": {
          "base_uri": "https://localhost:8080/"
        },
        "id": "aSym9v1XfRnf",
        "outputId": "eb1c7d5b-5b04-4060-834a-da334c81c121"
      },
      "execution_count": null,
      "outputs": [
        {
          "output_type": "stream",
          "name": "stdout",
          "text": [
            "<class 'pandas.core.frame.DataFrame'>\n",
            "RangeIndex: 2845342 entries, 0 to 2845341\n",
            "Data columns (total 47 columns):\n",
            " #   Column                 Dtype  \n",
            "---  ------                 -----  \n",
            " 0   ID                     object \n",
            " 1   Severity               int64  \n",
            " 2   Start_Time             object \n",
            " 3   End_Time               object \n",
            " 4   Start_Lat              float64\n",
            " 5   Start_Lng              float64\n",
            " 6   End_Lat                float64\n",
            " 7   End_Lng                float64\n",
            " 8   Distance(mi)           float64\n",
            " 9   Description            object \n",
            " 10  Number                 float64\n",
            " 11  Street                 object \n",
            " 12  Side                   object \n",
            " 13  City                   object \n",
            " 14  County                 object \n",
            " 15  State                  object \n",
            " 16  Zipcode                object \n",
            " 17  Country                object \n",
            " 18  Timezone               object \n",
            " 19  Airport_Code           object \n",
            " 20  Weather_Timestamp      object \n",
            " 21  Temperature(F)         float64\n",
            " 22  Wind_Chill(F)          float64\n",
            " 23  Humidity(%)            float64\n",
            " 24  Pressure(in)           float64\n",
            " 25  Visibility(mi)         float64\n",
            " 26  Wind_Direction         object \n",
            " 27  Wind_Speed(mph)        float64\n",
            " 28  Precipitation(in)      float64\n",
            " 29  Weather_Condition      object \n",
            " 30  Amenity                bool   \n",
            " 31  Bump                   bool   \n",
            " 32  Crossing               bool   \n",
            " 33  Give_Way               bool   \n",
            " 34  Junction               bool   \n",
            " 35  No_Exit                bool   \n",
            " 36  Railway                bool   \n",
            " 37  Roundabout             bool   \n",
            " 38  Station                bool   \n",
            " 39  Stop                   bool   \n",
            " 40  Traffic_Calming        bool   \n",
            " 41  Traffic_Signal         bool   \n",
            " 42  Turning_Loop           bool   \n",
            " 43  Sunrise_Sunset         object \n",
            " 44  Civil_Twilight         object \n",
            " 45  Nautical_Twilight      object \n",
            " 46  Astronomical_Twilight  object \n",
            "dtypes: bool(13), float64(13), int64(1), object(20)\n",
            "memory usage: 773.4+ MB\n"
          ]
        }
      ]
    },
    {
      "cell_type": "code",
      "source": [
        "# df.head(100)"
      ],
      "metadata": {
        "id": "CqfhPWMLfUCF"
      },
      "execution_count": null,
      "outputs": []
    },
    {
      "cell_type": "code",
      "source": [
        "df.describe()"
      ],
      "metadata": {
        "colab": {
          "base_uri": "https://localhost:8080/",
          "height": 364
        },
        "id": "aS4AZZO2fbmx",
        "outputId": "fb89b643-9794-462e-e345-b7a611dbe4f9"
      },
      "execution_count": null,
      "outputs": [
        {
          "output_type": "execute_result",
          "data": {
            "text/plain": [
              "           Severity     Start_Lat     Start_Lng       End_Lat       End_Lng  \\\n",
              "count  2.845342e+06  2.845342e+06  2.845342e+06  2.845342e+06  2.845342e+06   \n",
              "mean   2.137572e+00  3.624520e+01 -9.711463e+01  3.624532e+01 -9.711439e+01   \n",
              "std    4.787216e-01  5.363797e+00  1.831782e+01  5.363873e+00  1.831763e+01   \n",
              "min    1.000000e+00  2.456603e+01 -1.245481e+02  2.456601e+01 -1.245457e+02   \n",
              "25%    2.000000e+00  3.344517e+01 -1.180331e+02  3.344628e+01 -1.180333e+02   \n",
              "50%    2.000000e+00  3.609861e+01 -9.241808e+01  3.609799e+01 -9.241772e+01   \n",
              "75%    2.000000e+00  4.016024e+01 -8.037243e+01  4.016105e+01 -8.037338e+01   \n",
              "max    4.000000e+00  4.900058e+01 -6.711317e+01  4.907500e+01 -6.710924e+01   \n",
              "\n",
              "       Distance(mi)        Number  Temperature(F)  Wind_Chill(F)  \\\n",
              "count  2.845342e+06  1.101431e+06    2.776068e+06   2.375699e+06   \n",
              "mean   7.026779e-01  8.089408e+03    6.179356e+01   5.965823e+01   \n",
              "std    1.560361e+00  1.836009e+04    1.862263e+01   2.116097e+01   \n",
              "min    0.000000e+00  0.000000e+00   -8.900000e+01  -8.900000e+01   \n",
              "25%    5.200000e-02  1.270000e+03    5.000000e+01   4.600000e+01   \n",
              "50%    2.440000e-01  4.007000e+03    6.400000e+01   6.300000e+01   \n",
              "75%    7.640000e-01  9.567000e+03    7.600000e+01   7.600000e+01   \n",
              "max    1.551860e+02  9.999997e+06    1.960000e+02   1.960000e+02   \n",
              "\n",
              "        Humidity(%)  Pressure(in)  Visibility(mi)  Wind_Speed(mph)  \\\n",
              "count  2.772250e+06  2.786142e+06    2.774796e+06     2.687398e+06   \n",
              "mean   6.436545e+01  2.947234e+01    9.099391e+00     7.395044e+00   \n",
              "std    2.287457e+01  1.045286e+00    2.717546e+00     5.527454e+00   \n",
              "min    1.000000e+00  0.000000e+00    0.000000e+00     0.000000e+00   \n",
              "25%    4.800000e+01  2.931000e+01    1.000000e+01     3.500000e+00   \n",
              "50%    6.700000e+01  2.982000e+01    1.000000e+01     7.000000e+00   \n",
              "75%    8.300000e+01  3.001000e+01    1.000000e+01     1.000000e+01   \n",
              "max    1.000000e+02  5.890000e+01    1.400000e+02     1.087000e+03   \n",
              "\n",
              "       Precipitation(in)  \n",
              "count       2.295884e+06  \n",
              "mean        7.016940e-03  \n",
              "std         9.348831e-02  \n",
              "min         0.000000e+00  \n",
              "25%         0.000000e+00  \n",
              "50%         0.000000e+00  \n",
              "75%         0.000000e+00  \n",
              "max         2.400000e+01  "
            ],
            "text/html": [
              "\n",
              "  <div id=\"df-547b58a6-9a69-4d9c-9d9a-4fe0ac326322\">\n",
              "    <div class=\"colab-df-container\">\n",
              "      <div>\n",
              "<style scoped>\n",
              "    .dataframe tbody tr th:only-of-type {\n",
              "        vertical-align: middle;\n",
              "    }\n",
              "\n",
              "    .dataframe tbody tr th {\n",
              "        vertical-align: top;\n",
              "    }\n",
              "\n",
              "    .dataframe thead th {\n",
              "        text-align: right;\n",
              "    }\n",
              "</style>\n",
              "<table border=\"1\" class=\"dataframe\">\n",
              "  <thead>\n",
              "    <tr style=\"text-align: right;\">\n",
              "      <th></th>\n",
              "      <th>Severity</th>\n",
              "      <th>Start_Lat</th>\n",
              "      <th>Start_Lng</th>\n",
              "      <th>End_Lat</th>\n",
              "      <th>End_Lng</th>\n",
              "      <th>Distance(mi)</th>\n",
              "      <th>Number</th>\n",
              "      <th>Temperature(F)</th>\n",
              "      <th>Wind_Chill(F)</th>\n",
              "      <th>Humidity(%)</th>\n",
              "      <th>Pressure(in)</th>\n",
              "      <th>Visibility(mi)</th>\n",
              "      <th>Wind_Speed(mph)</th>\n",
              "      <th>Precipitation(in)</th>\n",
              "    </tr>\n",
              "  </thead>\n",
              "  <tbody>\n",
              "    <tr>\n",
              "      <th>count</th>\n",
              "      <td>2.845342e+06</td>\n",
              "      <td>2.845342e+06</td>\n",
              "      <td>2.845342e+06</td>\n",
              "      <td>2.845342e+06</td>\n",
              "      <td>2.845342e+06</td>\n",
              "      <td>2.845342e+06</td>\n",
              "      <td>1.101431e+06</td>\n",
              "      <td>2.776068e+06</td>\n",
              "      <td>2.375699e+06</td>\n",
              "      <td>2.772250e+06</td>\n",
              "      <td>2.786142e+06</td>\n",
              "      <td>2.774796e+06</td>\n",
              "      <td>2.687398e+06</td>\n",
              "      <td>2.295884e+06</td>\n",
              "    </tr>\n",
              "    <tr>\n",
              "      <th>mean</th>\n",
              "      <td>2.137572e+00</td>\n",
              "      <td>3.624520e+01</td>\n",
              "      <td>-9.711463e+01</td>\n",
              "      <td>3.624532e+01</td>\n",
              "      <td>-9.711439e+01</td>\n",
              "      <td>7.026779e-01</td>\n",
              "      <td>8.089408e+03</td>\n",
              "      <td>6.179356e+01</td>\n",
              "      <td>5.965823e+01</td>\n",
              "      <td>6.436545e+01</td>\n",
              "      <td>2.947234e+01</td>\n",
              "      <td>9.099391e+00</td>\n",
              "      <td>7.395044e+00</td>\n",
              "      <td>7.016940e-03</td>\n",
              "    </tr>\n",
              "    <tr>\n",
              "      <th>std</th>\n",
              "      <td>4.787216e-01</td>\n",
              "      <td>5.363797e+00</td>\n",
              "      <td>1.831782e+01</td>\n",
              "      <td>5.363873e+00</td>\n",
              "      <td>1.831763e+01</td>\n",
              "      <td>1.560361e+00</td>\n",
              "      <td>1.836009e+04</td>\n",
              "      <td>1.862263e+01</td>\n",
              "      <td>2.116097e+01</td>\n",
              "      <td>2.287457e+01</td>\n",
              "      <td>1.045286e+00</td>\n",
              "      <td>2.717546e+00</td>\n",
              "      <td>5.527454e+00</td>\n",
              "      <td>9.348831e-02</td>\n",
              "    </tr>\n",
              "    <tr>\n",
              "      <th>min</th>\n",
              "      <td>1.000000e+00</td>\n",
              "      <td>2.456603e+01</td>\n",
              "      <td>-1.245481e+02</td>\n",
              "      <td>2.456601e+01</td>\n",
              "      <td>-1.245457e+02</td>\n",
              "      <td>0.000000e+00</td>\n",
              "      <td>0.000000e+00</td>\n",
              "      <td>-8.900000e+01</td>\n",
              "      <td>-8.900000e+01</td>\n",
              "      <td>1.000000e+00</td>\n",
              "      <td>0.000000e+00</td>\n",
              "      <td>0.000000e+00</td>\n",
              "      <td>0.000000e+00</td>\n",
              "      <td>0.000000e+00</td>\n",
              "    </tr>\n",
              "    <tr>\n",
              "      <th>25%</th>\n",
              "      <td>2.000000e+00</td>\n",
              "      <td>3.344517e+01</td>\n",
              "      <td>-1.180331e+02</td>\n",
              "      <td>3.344628e+01</td>\n",
              "      <td>-1.180333e+02</td>\n",
              "      <td>5.200000e-02</td>\n",
              "      <td>1.270000e+03</td>\n",
              "      <td>5.000000e+01</td>\n",
              "      <td>4.600000e+01</td>\n",
              "      <td>4.800000e+01</td>\n",
              "      <td>2.931000e+01</td>\n",
              "      <td>1.000000e+01</td>\n",
              "      <td>3.500000e+00</td>\n",
              "      <td>0.000000e+00</td>\n",
              "    </tr>\n",
              "    <tr>\n",
              "      <th>50%</th>\n",
              "      <td>2.000000e+00</td>\n",
              "      <td>3.609861e+01</td>\n",
              "      <td>-9.241808e+01</td>\n",
              "      <td>3.609799e+01</td>\n",
              "      <td>-9.241772e+01</td>\n",
              "      <td>2.440000e-01</td>\n",
              "      <td>4.007000e+03</td>\n",
              "      <td>6.400000e+01</td>\n",
              "      <td>6.300000e+01</td>\n",
              "      <td>6.700000e+01</td>\n",
              "      <td>2.982000e+01</td>\n",
              "      <td>1.000000e+01</td>\n",
              "      <td>7.000000e+00</td>\n",
              "      <td>0.000000e+00</td>\n",
              "    </tr>\n",
              "    <tr>\n",
              "      <th>75%</th>\n",
              "      <td>2.000000e+00</td>\n",
              "      <td>4.016024e+01</td>\n",
              "      <td>-8.037243e+01</td>\n",
              "      <td>4.016105e+01</td>\n",
              "      <td>-8.037338e+01</td>\n",
              "      <td>7.640000e-01</td>\n",
              "      <td>9.567000e+03</td>\n",
              "      <td>7.600000e+01</td>\n",
              "      <td>7.600000e+01</td>\n",
              "      <td>8.300000e+01</td>\n",
              "      <td>3.001000e+01</td>\n",
              "      <td>1.000000e+01</td>\n",
              "      <td>1.000000e+01</td>\n",
              "      <td>0.000000e+00</td>\n",
              "    </tr>\n",
              "    <tr>\n",
              "      <th>max</th>\n",
              "      <td>4.000000e+00</td>\n",
              "      <td>4.900058e+01</td>\n",
              "      <td>-6.711317e+01</td>\n",
              "      <td>4.907500e+01</td>\n",
              "      <td>-6.710924e+01</td>\n",
              "      <td>1.551860e+02</td>\n",
              "      <td>9.999997e+06</td>\n",
              "      <td>1.960000e+02</td>\n",
              "      <td>1.960000e+02</td>\n",
              "      <td>1.000000e+02</td>\n",
              "      <td>5.890000e+01</td>\n",
              "      <td>1.400000e+02</td>\n",
              "      <td>1.087000e+03</td>\n",
              "      <td>2.400000e+01</td>\n",
              "    </tr>\n",
              "  </tbody>\n",
              "</table>\n",
              "</div>\n",
              "      <button class=\"colab-df-convert\" onclick=\"convertToInteractive('df-547b58a6-9a69-4d9c-9d9a-4fe0ac326322')\"\n",
              "              title=\"Convert this dataframe to an interactive table.\"\n",
              "              style=\"display:none;\">\n",
              "        \n",
              "  <svg xmlns=\"http://www.w3.org/2000/svg\" height=\"24px\"viewBox=\"0 0 24 24\"\n",
              "       width=\"24px\">\n",
              "    <path d=\"M0 0h24v24H0V0z\" fill=\"none\"/>\n",
              "    <path d=\"M18.56 5.44l.94 2.06.94-2.06 2.06-.94-2.06-.94-.94-2.06-.94 2.06-2.06.94zm-11 1L8.5 8.5l.94-2.06 2.06-.94-2.06-.94L8.5 2.5l-.94 2.06-2.06.94zm10 10l.94 2.06.94-2.06 2.06-.94-2.06-.94-.94-2.06-.94 2.06-2.06.94z\"/><path d=\"M17.41 7.96l-1.37-1.37c-.4-.4-.92-.59-1.43-.59-.52 0-1.04.2-1.43.59L10.3 9.45l-7.72 7.72c-.78.78-.78 2.05 0 2.83L4 21.41c.39.39.9.59 1.41.59.51 0 1.02-.2 1.41-.59l7.78-7.78 2.81-2.81c.8-.78.8-2.07 0-2.86zM5.41 20L4 18.59l7.72-7.72 1.47 1.35L5.41 20z\"/>\n",
              "  </svg>\n",
              "      </button>\n",
              "      \n",
              "  <style>\n",
              "    .colab-df-container {\n",
              "      display:flex;\n",
              "      flex-wrap:wrap;\n",
              "      gap: 12px;\n",
              "    }\n",
              "\n",
              "    .colab-df-convert {\n",
              "      background-color: #E8F0FE;\n",
              "      border: none;\n",
              "      border-radius: 50%;\n",
              "      cursor: pointer;\n",
              "      display: none;\n",
              "      fill: #1967D2;\n",
              "      height: 32px;\n",
              "      padding: 0 0 0 0;\n",
              "      width: 32px;\n",
              "    }\n",
              "\n",
              "    .colab-df-convert:hover {\n",
              "      background-color: #E2EBFA;\n",
              "      box-shadow: 0px 1px 2px rgba(60, 64, 67, 0.3), 0px 1px 3px 1px rgba(60, 64, 67, 0.15);\n",
              "      fill: #174EA6;\n",
              "    }\n",
              "\n",
              "    [theme=dark] .colab-df-convert {\n",
              "      background-color: #3B4455;\n",
              "      fill: #D2E3FC;\n",
              "    }\n",
              "\n",
              "    [theme=dark] .colab-df-convert:hover {\n",
              "      background-color: #434B5C;\n",
              "      box-shadow: 0px 1px 3px 1px rgba(0, 0, 0, 0.15);\n",
              "      filter: drop-shadow(0px 1px 2px rgba(0, 0, 0, 0.3));\n",
              "      fill: #FFFFFF;\n",
              "    }\n",
              "  </style>\n",
              "\n",
              "      <script>\n",
              "        const buttonEl =\n",
              "          document.querySelector('#df-547b58a6-9a69-4d9c-9d9a-4fe0ac326322 button.colab-df-convert');\n",
              "        buttonEl.style.display =\n",
              "          google.colab.kernel.accessAllowed ? 'block' : 'none';\n",
              "\n",
              "        async function convertToInteractive(key) {\n",
              "          const element = document.querySelector('#df-547b58a6-9a69-4d9c-9d9a-4fe0ac326322');\n",
              "          const dataTable =\n",
              "            await google.colab.kernel.invokeFunction('convertToInteractive',\n",
              "                                                     [key], {});\n",
              "          if (!dataTable) return;\n",
              "\n",
              "          const docLinkHtml = 'Like what you see? Visit the ' +\n",
              "            '<a target=\"_blank\" href=https://colab.research.google.com/notebooks/data_table.ipynb>data table notebook</a>'\n",
              "            + ' to learn more about interactive tables.';\n",
              "          element.innerHTML = '';\n",
              "          dataTable['output_type'] = 'display_data';\n",
              "          await google.colab.output.renderOutput(dataTable, element);\n",
              "          const docLink = document.createElement('div');\n",
              "          docLink.innerHTML = docLinkHtml;\n",
              "          element.appendChild(docLink);\n",
              "        }\n",
              "      </script>\n",
              "    </div>\n",
              "  </div>\n",
              "  "
            ]
          },
          "metadata": {},
          "execution_count": 16
        }
      ]
    },
    {
      "cell_type": "code",
      "source": [
        "# checking how many numeric columns are present in the dataset\n",
        "numerics = ['int16', 'int32','int64','float16','float32','float64']\n",
        "numeric_dtypes = df.select_dtypes(include=numerics)\n",
        "len(numeric_dtypes.columns)"
      ],
      "metadata": {
        "colab": {
          "base_uri": "https://localhost:8080/"
        },
        "id": "qED83YfQftcY",
        "outputId": "96c2f576-ff5d-4d5d-dd4a-5a78a244dc12"
      },
      "execution_count": null,
      "outputs": [
        {
          "output_type": "execute_result",
          "data": {
            "text/plain": [
              "14"
            ]
          },
          "metadata": {},
          "execution_count": 10
        }
      ]
    },
    {
      "cell_type": "markdown",
      "source": [
        "Percentage of missing values per column"
      ],
      "metadata": {
        "id": "zhHsTziSmoBb"
      }
    },
    {
      "cell_type": "code",
      "source": [
        "df.isna().sum().sort_values(ascending=False)"
      ],
      "metadata": {
        "colab": {
          "base_uri": "https://localhost:8080/"
        },
        "id": "6WpNF5gch5iy",
        "outputId": "61ff92f5-3040-4fbf-a253-e7a7f004a3be"
      },
      "execution_count": null,
      "outputs": [
        {
          "output_type": "execute_result",
          "data": {
            "text/plain": [
              "Number                   1743911\n",
              "Precipitation(in)         549458\n",
              "Wind_Chill(F)             469643\n",
              "Wind_Speed(mph)           157944\n",
              "Wind_Direction             73775\n",
              "Humidity(%)                73092\n",
              "Weather_Condition          70636\n",
              "Visibility(mi)             70546\n",
              "Temperature(F)             69274\n",
              "Pressure(in)               59200\n",
              "Weather_Timestamp          50736\n",
              "Airport_Code                9549\n",
              "Timezone                    3659\n",
              "Nautical_Twilight           2867\n",
              "Civil_Twilight              2867\n",
              "Sunrise_Sunset              2867\n",
              "Astronomical_Twilight       2867\n",
              "Zipcode                     1319\n",
              "City                         137\n",
              "Street                         2\n",
              "Country                        0\n",
              "Junction                       0\n",
              "Start_Time                     0\n",
              "End_Time                       0\n",
              "Start_Lat                      0\n",
              "Turning_Loop                   0\n",
              "Traffic_Signal                 0\n",
              "Traffic_Calming                0\n",
              "Stop                           0\n",
              "Station                        0\n",
              "Roundabout                     0\n",
              "Railway                        0\n",
              "No_Exit                        0\n",
              "Crossing                       0\n",
              "Give_Way                       0\n",
              "Bump                           0\n",
              "Amenity                        0\n",
              "Start_Lng                      0\n",
              "End_Lat                        0\n",
              "End_Lng                        0\n",
              "Distance(mi)                   0\n",
              "Description                    0\n",
              "Severity                       0\n",
              "Side                           0\n",
              "County                         0\n",
              "State                          0\n",
              "ID                             0\n",
              "dtype: int64"
            ]
          },
          "metadata": {},
          "execution_count": 11
        }
      ]
    },
    {
      "cell_type": "markdown",
      "source": [
        "* **Number column depicts the number of the street where accident has taken place. Since number is part of the address entity and it contains around 1.7 million empty records, it is safe to drop the column altogether.**"
      ],
      "metadata": {
        "id": "DQN6BjAqrB_H"
      }
    },
    {
      "cell_type": "code",
      "source": [
        "df = df.drop(axis=1, columns='Number')"
      ],
      "metadata": {
        "id": "tC4wQ4pIpipC"
      },
      "execution_count": null,
      "outputs": []
    },
    {
      "cell_type": "code",
      "source": [
        "df.isna().sum().sort_values(ascending=False)"
      ],
      "metadata": {
        "colab": {
          "base_uri": "https://localhost:8080/"
        },
        "id": "couy1ovWpime",
        "outputId": "5ba5ad58-ff7e-4211-8a81-c0d3f6f39a5f"
      },
      "execution_count": null,
      "outputs": [
        {
          "output_type": "execute_result",
          "data": {
            "text/plain": [
              "Precipitation(in)        549458\n",
              "Wind_Chill(F)            469643\n",
              "Wind_Speed(mph)          157944\n",
              "Wind_Direction            73775\n",
              "Humidity(%)               73092\n",
              "Weather_Condition         70636\n",
              "Visibility(mi)            70546\n",
              "Temperature(F)            69274\n",
              "Pressure(in)              59200\n",
              "Weather_Timestamp         50736\n",
              "Airport_Code               9549\n",
              "Timezone                   3659\n",
              "Nautical_Twilight          2867\n",
              "Civil_Twilight             2867\n",
              "Sunrise_Sunset             2867\n",
              "Astronomical_Twilight      2867\n",
              "Zipcode                    1319\n",
              "City                        137\n",
              "Street                        2\n",
              "Country                       0\n",
              "Junction                      0\n",
              "Start_Time                    0\n",
              "End_Time                      0\n",
              "Start_Lat                     0\n",
              "Turning_Loop                  0\n",
              "Traffic_Signal                0\n",
              "Traffic_Calming               0\n",
              "Stop                          0\n",
              "Station                       0\n",
              "Roundabout                    0\n",
              "Railway                       0\n",
              "No_Exit                       0\n",
              "Crossing                      0\n",
              "Give_Way                      0\n",
              "Bump                          0\n",
              "Amenity                       0\n",
              "Start_Lng                     0\n",
              "End_Lat                       0\n",
              "End_Lng                       0\n",
              "Distance(mi)                  0\n",
              "Description                   0\n",
              "Severity                      0\n",
              "Side                          0\n",
              "County                        0\n",
              "State                         0\n",
              "ID                            0\n",
              "dtype: int64"
            ]
          },
          "metadata": {},
          "execution_count": 13
        }
      ]
    },
    {
      "cell_type": "code",
      "source": [
        "missing_percentages = df.isna().sum().sort_values(ascending=False) / len(df)\n",
        "missing_percentages"
      ],
      "metadata": {
        "colab": {
          "base_uri": "https://localhost:8080/"
        },
        "id": "a_DREDWznLrl",
        "outputId": "651d8205-8d5d-4b70-b096-53b6661ca1f4"
      },
      "execution_count": null,
      "outputs": [
        {
          "output_type": "execute_result",
          "data": {
            "text/plain": [
              "Number                   6.129003e-01\n",
              "Precipitation(in)        1.931079e-01\n",
              "Wind_Chill(F)            1.650568e-01\n",
              "Wind_Speed(mph)          5.550967e-02\n",
              "Wind_Direction           2.592834e-02\n",
              "Humidity(%)              2.568830e-02\n",
              "Weather_Condition        2.482514e-02\n",
              "Visibility(mi)           2.479350e-02\n",
              "Temperature(F)           2.434646e-02\n",
              "Pressure(in)             2.080593e-02\n",
              "Weather_Timestamp        1.783125e-02\n",
              "Airport_Code             3.356011e-03\n",
              "Timezone                 1.285961e-03\n",
              "Nautical_Twilight        1.007612e-03\n",
              "Civil_Twilight           1.007612e-03\n",
              "Sunrise_Sunset           1.007612e-03\n",
              "Astronomical_Twilight    1.007612e-03\n",
              "Zipcode                  4.635647e-04\n",
              "City                     4.814887e-05\n",
              "Street                   7.029032e-07\n",
              "Country                  0.000000e+00\n",
              "Junction                 0.000000e+00\n",
              "Start_Time               0.000000e+00\n",
              "End_Time                 0.000000e+00\n",
              "Start_Lat                0.000000e+00\n",
              "Turning_Loop             0.000000e+00\n",
              "Traffic_Signal           0.000000e+00\n",
              "Traffic_Calming          0.000000e+00\n",
              "Stop                     0.000000e+00\n",
              "Station                  0.000000e+00\n",
              "Roundabout               0.000000e+00\n",
              "Railway                  0.000000e+00\n",
              "No_Exit                  0.000000e+00\n",
              "Crossing                 0.000000e+00\n",
              "Give_Way                 0.000000e+00\n",
              "Bump                     0.000000e+00\n",
              "Amenity                  0.000000e+00\n",
              "Start_Lng                0.000000e+00\n",
              "End_Lat                  0.000000e+00\n",
              "End_Lng                  0.000000e+00\n",
              "Distance(mi)             0.000000e+00\n",
              "Description              0.000000e+00\n",
              "Severity                 0.000000e+00\n",
              "Side                     0.000000e+00\n",
              "County                   0.000000e+00\n",
              "State                    0.000000e+00\n",
              "ID                       0.000000e+00\n",
              "dtype: float64"
            ]
          },
          "metadata": {},
          "execution_count": 17
        }
      ]
    },
    {
      "cell_type": "code",
      "source": [
        "missing_percentages[missing_percentages != 0].plot(kind='barh')"
      ],
      "metadata": {
        "colab": {
          "base_uri": "https://localhost:8080/",
          "height": 283
        },
        "id": "vsMxGDRznM52",
        "outputId": "dd44dfcf-0fa7-4ace-c73d-e04d89345a19"
      },
      "execution_count": null,
      "outputs": [
        {
          "output_type": "execute_result",
          "data": {
            "text/plain": [
              "<matplotlib.axes._subplots.AxesSubplot at 0x7f1d5f421250>"
            ]
          },
          "metadata": {},
          "execution_count": 18
        },
        {
          "output_type": "display_data",
          "data": {
            "text/plain": [
              "<Figure size 432x288 with 1 Axes>"
            ],
            "image/png": "[encoded data removed]"
          },
          "metadata": {
            "needs_background": "light"
          }
        }
      ]
    },
    {
      "cell_type": "markdown",
      "source": [
        "* **Checking the data in the columns to see if the columns itself are relevant or not** "
      ],
      "metadata": {
        "id": "v2DD_5bUum0F"
      }
    },
    {
      "cell_type": "code",
      "source": [
        "df['Precipitation(in)'].value_counts()[0.00]"
      ],
      "metadata": {
        "colab": {
          "base_uri": "https://localhost:8080/"
        },
        "id": "KB31kdX1sWm0",
        "outputId": "ac18049a-729f-49b9-c30e-77a1d0b01fb5"
      },
      "execution_count": null,
      "outputs": [
        {
          "output_type": "execute_result",
          "data": {
            "text/plain": [
              "2104242"
            ]
          },
          "metadata": {},
          "execution_count": 14
        }
      ]
    },
    {
      "cell_type": "code",
      "source": [
        "df['Precipitation(in)'].isna().sum()"
      ],
      "metadata": {
        "colab": {
          "base_uri": "https://localhost:8080/"
        },
        "id": "g6tyNeKpwJQf",
        "outputId": "45351aa3-cbe2-4fe0-d633-25c65a036001"
      },
      "execution_count": null,
      "outputs": [
        {
          "output_type": "execute_result",
          "data": {
            "text/plain": [
              "549458"
            ]
          },
          "metadata": {},
          "execution_count": 15
        }
      ]
    },
    {
      "cell_type": "markdown",
      "source": [
        "So, 2104242 zero values + 549458 nulls = ~2.6M values completely useless from analysis POV.\n",
        "\n",
        "Hence, dropping 'Precipitation(in)' "
      ],
      "metadata": {
        "id": "j9jT7-DewgTl"
      }
    },
    {
      "cell_type": "code",
      "source": [
        "df = df.drop(axis=1, columns='Precipitation(in)')"
      ],
      "metadata": {
        "id": "y1RReSC7xbIP"
      },
      "execution_count": null,
      "outputs": []
    },
    {
      "cell_type": "code",
      "source": [
        "df['Wind_Chill(F)'].isna().sum()"
      ],
      "metadata": {
        "colab": {
          "base_uri": "https://localhost:8080/"
        },
        "id": "ucat1_aMygRt",
        "outputId": "0d6ab547-c69e-4bf7-ca46-ab68156830f8"
      },
      "execution_count": null,
      "outputs": [
        {
          "output_type": "execute_result",
          "data": {
            "text/plain": [
              "469643"
            ]
          },
          "metadata": {},
          "execution_count": 17
        }
      ]
    },
    {
      "cell_type": "markdown",
      "source": [
        "* **Dropping NaN values from all the columns of the DataFrame**"
      ],
      "metadata": {
        "id": "zpJidgk_kcTr"
      }
    },
    {
      "cell_type": "code",
      "source": [
        "df.shape"
      ],
      "metadata": {
        "colab": {
          "base_uri": "https://localhost:8080/"
        },
        "id": "eq4BhM09kwCU",
        "outputId": "fa03f26d-834c-4214-abb1-a3d33e1a2a7f"
      },
      "execution_count": null,
      "outputs": [
        {
          "output_type": "execute_result",
          "data": {
            "text/plain": [
              "(2845342, 45)"
            ]
          },
          "metadata": {},
          "execution_count": 18
        }
      ]
    },
    {
      "cell_type": "code",
      "source": [
        "df = df.dropna(axis=0)"
      ],
      "metadata": {
        "id": "dtX0RK31jQcN"
      },
      "execution_count": null,
      "outputs": []
    },
    {
      "cell_type": "code",
      "source": [
        "df.shape"
      ],
      "metadata": {
        "colab": {
          "base_uri": "https://localhost:8080/"
        },
        "id": "Fo0cG1N1jQZD",
        "outputId": "ecc2a145-8501-4849-be27-33fa90427efe"
      },
      "execution_count": null,
      "outputs": [
        {
          "output_type": "execute_result",
          "data": {
            "text/plain": [
              "(2355617, 45)"
            ]
          },
          "metadata": {},
          "execution_count": 20
        }
      ]
    },
    {
      "cell_type": "code",
      "source": [
        "df.isna().sum().sort_values(ascending=False)"
      ],
      "metadata": {
        "colab": {
          "base_uri": "https://localhost:8080/"
        },
        "id": "ucqeGFbajQVX",
        "outputId": "e64bfde6-82ac-40d8-96b9-e41233916fc4"
      },
      "execution_count": null,
      "outputs": [
        {
          "output_type": "execute_result",
          "data": {
            "text/plain": [
              "ID                       0\n",
              "Pressure(in)             0\n",
              "Wind_Direction           0\n",
              "Wind_Speed(mph)          0\n",
              "Weather_Condition        0\n",
              "Amenity                  0\n",
              "Bump                     0\n",
              "Crossing                 0\n",
              "Give_Way                 0\n",
              "Junction                 0\n",
              "No_Exit                  0\n",
              "Railway                  0\n",
              "Roundabout               0\n",
              "Station                  0\n",
              "Stop                     0\n",
              "Traffic_Calming          0\n",
              "Traffic_Signal           0\n",
              "Turning_Loop             0\n",
              "Sunrise_Sunset           0\n",
              "Civil_Twilight           0\n",
              "Nautical_Twilight        0\n",
              "Visibility(mi)           0\n",
              "Humidity(%)              0\n",
              "Severity                 0\n",
              "Wind_Chill(F)            0\n",
              "Start_Time               0\n",
              "End_Time                 0\n",
              "Start_Lat                0\n",
              "Start_Lng                0\n",
              "End_Lat                  0\n",
              "End_Lng                  0\n",
              "Distance(mi)             0\n",
              "Description              0\n",
              "Street                   0\n",
              "Side                     0\n",
              "City                     0\n",
              "County                   0\n",
              "State                    0\n",
              "Zipcode                  0\n",
              "Country                  0\n",
              "Timezone                 0\n",
              "Airport_Code             0\n",
              "Weather_Timestamp        0\n",
              "Temperature(F)           0\n",
              "Astronomical_Twilight    0\n",
              "dtype: int64"
            ]
          },
          "metadata": {},
          "execution_count": 21
        }
      ]
    },
    {
      "cell_type": "markdown",
      "source": [
        "* **Checking for the presence of duplicate values and if present, eradicating them.**"
      ],
      "metadata": {
        "id": "8T2AS9ItuHxd"
      }
    },
    {
      "cell_type": "code",
      "source": [
        "duplicated_values = df.duplicated(keep='first')"
      ],
      "metadata": {
        "id": "xwT4PQzksWXS"
      },
      "execution_count": null,
      "outputs": []
    },
    {
      "cell_type": "code",
      "source": [
        "duplicated_values[duplicated_values == False]"
      ],
      "metadata": {
        "colab": {
          "base_uri": "https://localhost:8080/"
        },
        "id": "CagPVVV4pijy",
        "outputId": "298c8d49-5ff6-456c-9c3f-6c546f0f0a88"
      },
      "execution_count": null,
      "outputs": [
        {
          "output_type": "execute_result",
          "data": {
            "text/plain": [
              "0          False\n",
              "4          False\n",
              "5          False\n",
              "7          False\n",
              "8          False\n",
              "           ...  \n",
              "2845337    False\n",
              "2845338    False\n",
              "2845339    False\n",
              "2845340    False\n",
              "2845341    False\n",
              "Length: 2355617, dtype: bool"
            ]
          },
          "metadata": {},
          "execution_count": 23
        }
      ]
    },
    {
      "cell_type": "code",
      "source": [
        "duplicated_values[duplicated_values == True]"
      ],
      "metadata": {
        "colab": {
          "base_uri": "https://localhost:8080/"
        },
        "id": "FHnYE29puYjV",
        "outputId": "5ebef2cc-699f-469a-a6a3-62764bbd03b9"
      },
      "execution_count": null,
      "outputs": [
        {
          "output_type": "execute_result",
          "data": {
            "text/plain": [
              "Series([], dtype: bool)"
            ]
          },
          "metadata": {},
          "execution_count": 24
        }
      ]
    },
    {
      "cell_type": "markdown",
      "source": [
        "No duplicates present ! :)"
      ],
      "metadata": {
        "id": "MelRbjV7ucWW"
      }
    },
    {
      "cell_type": "markdown",
      "source": [
        "Loading it back to .csv for visualization in Power BI."
      ],
      "metadata": {
        "id": "WEr0TI4mYSu3"
      }
    },
    {
      "cell_type": "code",
      "source": [
        "df.to_csv(\"US-Accidents-updated.csv\")"
      ],
      "metadata": {
        "id": "P-tLnwLrYSJ4"
      },
      "execution_count": null,
      "outputs": []
    },
    {
      "cell_type": "markdown",
      "source": [
        "## **Questions that lead to meaningful insights**\n",
        "\n",
        "1. Are there more accidents in the cold or warm areas?\n",
        "2. Which 5 states has the highest number of accidents? How about per \n",
        "capita?\n",
        "3. New York doesn't show up in thetop 20 cities with highest number of accidents despite having the highest population. Why? Also to note, population of a particular city in the dataset would have added a spice in the analysis.\n",
        "4. Among the top 100 cities in the number of accidents, which state do they belong to most frequently?\n",
        "5. What time of the day are accidents most frequent?\n",
        "6. Which days of the week have the most accidents?\n",
        "7. Which months have the most accidents?\n",
        "8. What is the trend of the accidents year over year (decreasing / increasing)?\n",
        "9. When is accidents per unit of traffic the highest?\n",
        "10. Is the distribution of accidents by hour the same on weekends as on weekdays?\n",
        "11. Weather wise analysis"
      ],
      "metadata": {
        "id": "C2C-N_RZtJio"
      }
    },
    {
      "cell_type": "markdown",
      "source": [
        "## **Exploratory Analysis and Visualization**\n",
        "\n",
        "To answer the questions above, we shall analyze the following columns.\n",
        "\n",
        "1. City\n",
        "2. Start Time\n",
        "3. Start Lat, Start Lng\n",
        "4. Temperature\n",
        "5. Weather Condition\n",
        "\n"
      ],
      "metadata": {
        "id": "9JOQM4MDs7nJ"
      }
    },
    {
      "cell_type": "markdown",
      "source": [
        "#### City column analysis"
      ],
      "metadata": {
        "id": "KtUp2WZJtg2S"
      }
    },
    {
      "cell_type": "code",
      "source": [
        "cities = df.City.unique()\n",
        "len(cities)"
      ],
      "metadata": {
        "colab": {
          "base_uri": "https://localhost:8080/"
        },
        "id": "_P2SJv3atDu5",
        "outputId": "8fed95fc-6bda-4040-8a9f-3d9b2d7f5bc8"
      },
      "execution_count": null,
      "outputs": [
        {
          "output_type": "execute_result",
          "data": {
            "text/plain": [
              "10259"
            ]
          },
          "metadata": {},
          "execution_count": 25
        }
      ]
    },
    {
      "cell_type": "code",
      "source": [
        "# count of values in pandas. Used for showing top accidents in cities.\n",
        "cities_by_accident = df.City.value_counts()\n",
        "cities_by_accident"
      ],
      "metadata": {
        "colab": {
          "base_uri": "https://localhost:8080/"
        },
        "id": "OvrIag2EtDik",
        "outputId": "a22cc792-08c0-4117-a616-fe978bf8208a"
      },
      "execution_count": null,
      "outputs": [
        {
          "output_type": "execute_result",
          "data": {
            "text/plain": [
              "Miami                           97730\n",
              "Los Angeles                     56478\n",
              "Orlando                         49725\n",
              "Dallas                          33901\n",
              "Houston                         29044\n",
              "                                ...  \n",
              "Taylor Mill                         1\n",
              "Byars                               1\n",
              "New Sweden                          1\n",
              "Miromar Lakes                       1\n",
              "American Fork-Pleasant Grove        1\n",
              "Name: City, Length: 10259, dtype: int64"
            ]
          },
          "metadata": {},
          "execution_count": 26
        }
      ]
    },
    {
      "cell_type": "code",
      "source": [
        "len(cities_by_accident)"
      ],
      "metadata": {
        "colab": {
          "base_uri": "https://localhost:8080/"
        },
        "id": "tX-YLANyaH8r",
        "outputId": "827e836c-a776-4dd4-bb42-41c79fa64352"
      },
      "execution_count": null,
      "outputs": [
        {
          "output_type": "execute_result",
          "data": {
            "text/plain": [
              "10259"
            ]
          },
          "metadata": {},
          "execution_count": 27
        }
      ]
    },
    {
      "cell_type": "code",
      "source": [
        "# top 10, 20 cities with highest accidents\n",
        "cities_by_accident[:10]\n",
        "cities_by_accident[:20]"
      ],
      "metadata": {
        "colab": {
          "base_uri": "https://localhost:8080/"
        },
        "id": "5MYF3xzrtDXx",
        "outputId": "3d4b8e2c-6890-4dd8-9161-3d6274706811"
      },
      "execution_count": null,
      "outputs": [
        {
          "output_type": "execute_result",
          "data": {
            "text/plain": [
              "Miami           97730\n",
              "Los Angeles     56478\n",
              "Orlando         49725\n",
              "Dallas          33901\n",
              "Houston         29044\n",
              "Sacramento      28816\n",
              "Charlotte       25166\n",
              "San Diego       22011\n",
              "Raleigh         21134\n",
              "Minneapolis     20930\n",
              "Nashville       18467\n",
              "Portland        17391\n",
              "Baton Rouge     17132\n",
              "Austin          15381\n",
              "Saint Paul      15184\n",
              "New Orleans     15129\n",
              "Phoenix         13045\n",
              "Tucson          12930\n",
              "Richmond        12465\n",
              "Jacksonville    12133\n",
              "Name: City, dtype: int64"
            ]
          },
          "metadata": {},
          "execution_count": 28
        }
      ]
    },
    {
      "cell_type": "code",
      "source": [
        "cities_by_accident[:20].plot(kind='barh')"
      ],
      "metadata": {
        "colab": {
          "base_uri": "https://localhost:8080/",
          "height": 282
        },
        "id": "jlXR4OvzM-dD",
        "outputId": "0232e8ba-086d-49c2-b153-0d1af6239244"
      },
      "execution_count": null,
      "outputs": [
        {
          "output_type": "execute_result",
          "data": {
            "text/plain": [
              "<matplotlib.axes._subplots.AxesSubplot at 0x7fe844d70d00>"
            ]
          },
          "metadata": {},
          "execution_count": 29
        },
        {
          "output_type": "display_data",
          "data": {
            "text/plain": [
              "<Figure size 432x288 with 1 Axes>"
            ],
            "image/png": "[encoded data removed]"
          },
          "metadata": {
            "needs_background": "light"
          }
        }
      ]
    },
    {
      "cell_type": "code",
      "source": [
        "import seaborn as sns\n",
        "sns.set_style('darkgrid')"
      ],
      "metadata": {
        "id": "dC7ksBWrM-Qi"
      },
      "execution_count": null,
      "outputs": []
    },
    {
      "cell_type": "code",
      "source": [
        "sns.distplot(cities_by_accident)"
      ],
      "metadata": {
        "colab": {
          "base_uri": "https://localhost:8080/",
          "height": 351
        },
        "id": "XyVvp4qfODvq",
        "outputId": "840a2f5d-5b6c-4009-fd86-fe039414c1e3"
      },
      "execution_count": null,
      "outputs": [
        {
          "output_type": "stream",
          "name": "stderr",
          "text": [
            "/usr/local/lib/python3.8/dist-packages/seaborn/distributions.py:2619: FutureWarning: `distplot` is a deprecated function and will be removed in a future version. Please adapt your code to use either `displot` (a figure-level function with similar flexibility) or `histplot` (an axes-level function for histograms).\n",
            "  warnings.warn(msg, FutureWarning)\n"
          ]
        },
        {
          "output_type": "execute_result",
          "data": {
            "text/plain": [
              "<matplotlib.axes._subplots.AxesSubplot at 0x7fe888a7e5e0>"
            ]
          },
          "metadata": {},
          "execution_count": 31
        },
        {
          "output_type": "display_data",
          "data": {
            "text/plain": [
              "<Figure size 432x288 with 1 Axes>"
            ],
            "image/png": "[encoded data removed]"
          },
          "metadata": {}
        }
      ]
    },
    {
      "cell_type": "code",
      "source": [
        "high_accident_cities = cities_by_accident[cities_by_accident >= 1000]\n",
        "low_accident_cities = cities_by_accident[cities_by_accident < 1000]"
      ],
      "metadata": {
        "id": "_gbaqxEDOdza"
      },
      "execution_count": null,
      "outputs": []
    },
    {
      "cell_type": "code",
      "source": [
        "percent_accidents_high = (len(high_accident_cities) / len(cities))*100\n",
        "print(f'{percent_accidents_high:.2f} % of cities have the highest accidents.')"
      ],
      "metadata": {
        "colab": {
          "base_uri": "https://localhost:8080/"
        },
        "id": "BIXjblxdOdjz",
        "outputId": "1b7fd304-e1ba-4ee3-91e1-4fc1a56edc31"
      },
      "execution_count": null,
      "outputs": [
        {
          "output_type": "stream",
          "name": "stdout",
          "text": [
            "3.86 % of cities have the highest accidents.\n"
          ]
        }
      ]
    },
    {
      "cell_type": "code",
      "source": [
        "# distplot for the high accidents cities.\n",
        "sns.distplot(high_accident_cities)"
      ],
      "metadata": {
        "colab": {
          "base_uri": "https://localhost:8080/",
          "height": 351
        },
        "id": "R0CHYaYQQN-0",
        "outputId": "39463a87-5909-43e0-d1f0-4123f7b26659"
      },
      "execution_count": null,
      "outputs": [
        {
          "output_type": "stream",
          "name": "stderr",
          "text": [
            "/usr/local/lib/python3.8/dist-packages/seaborn/distributions.py:2619: FutureWarning: `distplot` is a deprecated function and will be removed in a future version. Please adapt your code to use either `displot` (a figure-level function with similar flexibility) or `histplot` (an axes-level function for histograms).\n",
            "  warnings.warn(msg, FutureWarning)\n"
          ]
        },
        {
          "output_type": "execute_result",
          "data": {
            "text/plain": [
              "<matplotlib.axes._subplots.AxesSubplot at 0x7fe889632730>"
            ]
          },
          "metadata": {},
          "execution_count": 34
        },
        {
          "output_type": "display_data",
          "data": {
            "text/plain": [
              "<Figure size 432x288 with 1 Axes>"
            ],
            "image/png": "[encoded data removed]"
          },
          "metadata": {}
        }
      ]
    },
    {
      "cell_type": "code",
      "source": [
        "# distplot for the low accidents cities.\n",
        "sns.histplot(low_accident_cities, log_scale=True)"
      ],
      "metadata": {
        "colab": {
          "base_uri": "https://localhost:8080/",
          "height": 300
        },
        "id": "2baSXpFBQlok",
        "outputId": "f0b298f5-b946-42bf-da00-2d30af467b8a"
      },
      "execution_count": null,
      "outputs": [
        {
          "output_type": "execute_result",
          "data": {
            "text/plain": [
              "<matplotlib.axes._subplots.AxesSubplot at 0x7fe842938d30>"
            ]
          },
          "metadata": {},
          "execution_count": 35
        },
        {
          "output_type": "display_data",
          "data": {
            "text/plain": [
              "<Figure size 432x288 with 1 Axes>"
            ],
            "image/png": "[encoded data removed]"
          },
          "metadata": {}
        }
      ]
    },
    {
      "cell_type": "code",
      "source": [
        "# major chunk of data falls between 10-100 and 100-1000 accidents. ALtough,\n",
        "# there is still some amount of data which has accidents between 1-10. This \n",
        "# could indicate that some of the cities have missing data. Checking for the \n",
        "# missing data now\n",
        "\n",
        "cities_by_accident[cities_by_accident == 1]"
      ],
      "metadata": {
        "colab": {
          "base_uri": "https://localhost:8080/"
        },
        "id": "FBWgL3KhQlez",
        "outputId": "23c958ad-5c74-44f8-e4e1-c5e7535b5787"
      },
      "execution_count": null,
      "outputs": [
        {
          "output_type": "execute_result",
          "data": {
            "text/plain": [
              "Assaria                         1\n",
              "Oceanport                       1\n",
              "Forest Falls                    1\n",
              "Buncombe                        1\n",
              "Nowata                          1\n",
              "                               ..\n",
              "Taylor Mill                     1\n",
              "Byars                           1\n",
              "New Sweden                      1\n",
              "Miromar Lakes                   1\n",
              "American Fork-Pleasant Grove    1\n",
              "Name: City, Length: 888, dtype: int64"
            ]
          },
          "metadata": {},
          "execution_count": 36
        }
      ]
    },
    {
      "cell_type": "code",
      "source": [
        "cities_by_accident[cities_by_accident == 'Sekiu']"
      ],
      "metadata": {
        "colab": {
          "base_uri": "https://localhost:8080/"
        },
        "id": "d1ScOao0soMx",
        "outputId": "aeda85b0-dbcd-4157-b2e7-20510af9bca1"
      },
      "execution_count": null,
      "outputs": [
        {
          "output_type": "execute_result",
          "data": {
            "text/plain": [
              "Series([], Name: City, dtype: int64)"
            ]
          },
          "metadata": {},
          "execution_count": 45
        }
      ]
    },
    {
      "cell_type": "code",
      "source": [
        "percent_top_cities = (125/len(cities)) * 100\n",
        "percent_top_cities"
      ],
      "metadata": {
        "colab": {
          "base_uri": "https://localhost:8080/"
        },
        "id": "9ivbd9Gjnvm7",
        "outputId": "d6019a98-aa45-4aca-d03c-4a9345bfd504"
      },
      "execution_count": null,
      "outputs": [
        {
          "output_type": "execute_result",
          "data": {
            "text/plain": [
              "1.2184423433083147"
            ]
          },
          "metadata": {},
          "execution_count": 37
        }
      ]
    },
    {
      "cell_type": "code",
      "source": [
        "total_accidents = cities_by_accident.sum()\n",
        "accidents_top_cities = cities_by_accident[:125].sum()"
      ],
      "metadata": {
        "id": "3hG2Nt-usRPv"
      },
      "execution_count": null,
      "outputs": []
    },
    {
      "cell_type": "code",
      "source": [
        "percent_accident_top_cities = (accidents_top_cities / total_accidents) * 100"
      ],
      "metadata": {
        "id": "ei-5jShkeUgx"
      },
      "execution_count": null,
      "outputs": []
    },
    {
      "cell_type": "markdown",
      "source": [
        "summarising:\n"
      ],
      "metadata": {
        "id": "jaJsxzyohp3o"
      }
    },
    {
      "cell_type": "code",
      "source": [
        "print(f'{percent_top_cities: .1f}% cities have {percent_accident_top_cities:.2f} % acidents, which is 125 of the total ciities!')"
      ],
      "metadata": {
        "colab": {
          "base_uri": "https://localhost:8080/"
        },
        "id": "iwtUyJryg-sc",
        "outputId": "4c425804-b0f0-44ea-eb4a-6cc7a585fc80"
      },
      "execution_count": null,
      "outputs": [
        {
          "output_type": "stream",
          "name": "stdout",
          "text": [
            " 1.2% cities have 45.38 % acidents, which is 125 of the total ciities!\n"
          ]
        }
      ]
    },
    {
      "cell_type": "markdown",
      "source": [
        "one line approach. Here we find the top 1 % of cities!"
      ],
      "metadata": {
        "id": "Ty_Q1EalKbeu"
      }
    },
    {
      "cell_type": "code",
      "source": [
        "cities_by_accident[:int(len(cities_by_accident)*0.01)].sum()/cities_by_accident.sum()"
      ],
      "metadata": {
        "colab": {
          "base_uri": "https://localhost:8080/"
        },
        "id": "MVoZW4QIKE-3",
        "outputId": "0781ce0d-1858-4614-fcf4-a394e8de55ec"
      },
      "execution_count": null,
      "outputs": [
        {
          "output_type": "execute_result",
          "data": {
            "text/plain": [
              "0.4251204673764878"
            ]
          },
          "metadata": {},
          "execution_count": 106
        }
      ]
    },
    {
      "cell_type": "code",
      "source": [
        "print(f\"Top 1% of the total cities have {(cities_by_accident[:int(len(cities_by_accident)*0.01)].sum()/cities_by_accident.sum())*100:.2f}% of accidents!\")"
      ],
      "metadata": {
        "colab": {
          "base_uri": "https://localhost:8080/"
        },
        "id": "n1xCfHU0K2S5",
        "outputId": "29c510d1-e911-428a-c358-f349dfe81cb2"
      },
      "execution_count": null,
      "outputs": [
        {
          "output_type": "stream",
          "name": "stdout",
          "text": [
            "Top 1% of the total cities have 42.51% of accidents!\n"
          ]
        }
      ]
    },
    {
      "cell_type": "code",
      "source": [
        "# Answering 3. here. Since there is no data for New York present, we can't use it for the analysis\n",
        "'New York' in df.City\n",
        "'NY' in df.State"
      ],
      "metadata": {
        "colab": {
          "base_uri": "https://localhost:8080/"
        },
        "id": "a2lpej7ktDO8",
        "outputId": "0789411c-0f26-4530-8608-77b4df27b3e8"
      },
      "execution_count": null,
      "outputs": [
        {
          "output_type": "execute_result",
          "data": {
            "text/plain": [
              "False"
            ]
          },
          "metadata": {},
          "execution_count": 41
        }
      ]
    },
    {
      "cell_type": "code",
      "source": [
        "states = df.State.unique()\n",
        "len(states)"
      ],
      "metadata": {
        "colab": {
          "base_uri": "https://localhost:8080/"
        },
        "id": "P7DYYVQBtDCh",
        "outputId": "209d31f2-969e-478e-cee6-a943e37c2893"
      },
      "execution_count": null,
      "outputs": [
        {
          "output_type": "execute_result",
          "data": {
            "text/plain": [
              "49"
            ]
          },
          "metadata": {},
          "execution_count": 42
        }
      ]
    },
    {
      "cell_type": "markdown",
      "source": [
        "**City Column Insights**\n",
        "\n",
        "*  3.86 % of cities have over 1000 accidents annually.\n",
        "*  Top accident cities include Maimi, Los Angeles, Orlando, Dallas and Houston.\n",
        "* 1.2% cities have 45.38 % acidents, which is top 125 of the total ciities!\n",
        "* Top 1% of the total cities have 42.51% of accidents!\n"
      ],
      "metadata": {
        "id": "OPKEvd09LZa1"
      }
    },
    {
      "cell_type": "markdown",
      "source": [
        "#### Start Time column analysis"
      ],
      "metadata": {
        "id": "d3q5TuSyuHni"
      }
    },
    {
      "cell_type": "code",
      "source": [
        "df.Start_Time"
      ],
      "metadata": {
        "id": "Uuq1K2-ytC2Z",
        "colab": {
          "base_uri": "https://localhost:8080/"
        },
        "outputId": "43e19a41-a032-4ee6-85e8-05bcb45c293a"
      },
      "execution_count": null,
      "outputs": [
        {
          "output_type": "execute_result",
          "data": {
            "text/plain": [
              "0          2016-02-08 00:37:08\n",
              "4          2016-02-08 07:53:43\n",
              "5          2016-02-08 08:16:57\n",
              "7          2016-02-08 11:51:46\n",
              "8          2016-02-08 14:19:57\n",
              "                  ...         \n",
              "2845337    2019-08-23 18:03:25\n",
              "2845338    2019-08-23 19:11:30\n",
              "2845339    2019-08-23 19:00:21\n",
              "2845340    2019-08-23 19:00:21\n",
              "2845341    2019-08-23 18:52:06\n",
              "Name: Start_Time, Length: 2355617, dtype: object"
            ]
          },
          "metadata": {},
          "execution_count": 43
        }
      ]
    },
    {
      "cell_type": "code",
      "source": [
        "df.Start_Time = pd.to_datetime(df.Start_Time)"
      ],
      "metadata": {
        "id": "4_gb3LqNuawY"
      },
      "execution_count": null,
      "outputs": []
    },
    {
      "cell_type": "code",
      "source": [
        "df.Start_Time[0]"
      ],
      "metadata": {
        "colab": {
          "base_uri": "https://localhost:8080/"
        },
        "id": "tLqVEKscuatQ",
        "outputId": "8fdbe560-5c45-4141-e366-30d1a17f9ca8"
      },
      "execution_count": null,
      "outputs": [
        {
          "output_type": "execute_result",
          "data": {
            "text/plain": [
              "Timestamp('2016-02-08 00:37:08')"
            ]
          },
          "metadata": {},
          "execution_count": 45
        }
      ]
    },
    {
      "cell_type": "code",
      "source": [
        "df.Start_Time.dt.hour"
      ],
      "metadata": {
        "colab": {
          "base_uri": "https://localhost:8080/"
        },
        "id": "ajN8Y6Nduaqp",
        "outputId": "0ec016ad-13cc-421d-b638-11256d9d827b"
      },
      "execution_count": null,
      "outputs": [
        {
          "output_type": "execute_result",
          "data": {
            "text/plain": [
              "0           0\n",
              "4           7\n",
              "5           8\n",
              "7          11\n",
              "8          14\n",
              "           ..\n",
              "2845337    18\n",
              "2845338    19\n",
              "2845339    19\n",
              "2845340    19\n",
              "2845341    18\n",
              "Name: Start_Time, Length: 2355617, dtype: int64"
            ]
          },
          "metadata": {},
          "execution_count": 46
        }
      ]
    },
    {
      "cell_type": "code",
      "source": [
        "sns.histplot(df.Start_Time.dt.hour, bins=24)"
      ],
      "metadata": {
        "colab": {
          "base_uri": "https://localhost:8080/",
          "height": 297
        },
        "id": "cxd1hS9fuam5",
        "outputId": "0006e00d-2cfe-4155-8c07-bb8689543344"
      },
      "execution_count": null,
      "outputs": [
        {
          "output_type": "execute_result",
          "data": {
            "text/plain": [
              "<matplotlib.axes._subplots.AxesSubplot at 0x7fe847a4bcd0>"
            ]
          },
          "metadata": {},
          "execution_count": 47
        },
        {
          "output_type": "display_data",
          "data": {
            "text/plain": [
              "<Figure size 432x288 with 1 Axes>"
            ],
            "image/png": "[encoded data removed]"
          },
          "metadata": {}
        }
      ]
    },
    {
      "cell_type": "code",
      "source": [
        "# plotting number of accidents by the time they occur in a distplot\n",
        "sns.distplot(df.Start_Time.dt.hour, norm_hist=True, bins=24, kde=False)"
      ],
      "metadata": {
        "colab": {
          "base_uri": "https://localhost:8080/",
          "height": 352
        },
        "id": "hvFZcrlruajM",
        "outputId": "95aab553-36f4-4482-cad9-c6c6788eb5dc"
      },
      "execution_count": null,
      "outputs": [
        {
          "output_type": "stream",
          "name": "stderr",
          "text": [
            "/usr/local/lib/python3.8/dist-packages/seaborn/distributions.py:2619: FutureWarning: `distplot` is a deprecated function and will be removed in a future version. Please adapt your code to use either `displot` (a figure-level function with similar flexibility) or `histplot` (an axes-level function for histograms).\n",
            "  warnings.warn(msg, FutureWarning)\n"
          ]
        },
        {
          "output_type": "execute_result",
          "data": {
            "text/plain": [
              "<matplotlib.axes._subplots.AxesSubplot at 0x7fe88625d6a0>"
            ]
          },
          "metadata": {},
          "execution_count": 48
        },
        {
          "output_type": "display_data",
          "data": {
            "text/plain": [
              "<Figure size 432x288 with 1 Axes>"
            ],
            "image/png": "[encoded data removed]"
          },
          "metadata": {}
        }
      ]
    },
    {
      "cell_type": "code",
      "source": [
        "# plotting number of accidents that occur every day of the week\n",
        "sns.distplot(df.Start_Time.dt.dayofweek, bins=7, kde=False, norm_hist=True)"
      ],
      "metadata": {
        "colab": {
          "base_uri": "https://localhost:8080/",
          "height": 297
        },
        "id": "9QHgrtaRuacs",
        "outputId": "4e2af6f4-0a5c-47ef-a5c2-fd598c6dae90"
      },
      "execution_count": null,
      "outputs": [
        {
          "output_type": "execute_result",
          "data": {
            "text/plain": [
              "<matplotlib.axes._subplots.AxesSubplot at 0x7fe83f9c7bb0>"
            ]
          },
          "metadata": {},
          "execution_count": 49
        },
        {
          "output_type": "display_data",
          "data": {
            "text/plain": [
              "<Figure size 432x288 with 1 Axes>"
            ],
            "image/png": "[encoded data removed]"
          },
          "metadata": {}
        }
      ]
    },
    {
      "cell_type": "code",
      "source": [
        "weekends = df.Start_Time[df.Start_Time.dt.dayofweek > 4]"
      ],
      "metadata": {
        "id": "wVD60U153J4y"
      },
      "execution_count": null,
      "outputs": []
    },
    {
      "cell_type": "code",
      "source": [
        "# Answered 10. here. Hourly distribution of accidents on weekends. \n",
        "sns.distplot(weekends.dt.hour, bins=24, kde=False, norm_hist=True)"
      ],
      "metadata": {
        "colab": {
          "base_uri": "https://localhost:8080/",
          "height": 297
        },
        "id": "iJEtRdCt3JtL",
        "outputId": "71651b2f-d79d-4166-b8ed-8ca0799bbccc"
      },
      "execution_count": null,
      "outputs": [
        {
          "output_type": "execute_result",
          "data": {
            "text/plain": [
              "<matplotlib.axes._subplots.AxesSubplot at 0x7fe88768dee0>"
            ]
          },
          "metadata": {},
          "execution_count": 51
        },
        {
          "output_type": "display_data",
          "data": {
            "text/plain": [
              "<Figure size 432x288 with 1 Axes>"
            ],
            "image/png": "[encoded data removed]"
          },
          "metadata": {}
        }
      ]
    },
    {
      "cell_type": "code",
      "source": [
        "weekdays = df.Start_Time[df.Start_Time.dt.dayofweek <= 4]"
      ],
      "metadata": {
        "id": "Oao52lxj7SRe"
      },
      "execution_count": null,
      "outputs": []
    },
    {
      "cell_type": "code",
      "source": [
        "# hourly accident trends on weekdays\n",
        "sns.distplot(weekdays.dt.hour, bins=24, kde=False, norm_hist=True)"
      ],
      "metadata": {
        "colab": {
          "base_uri": "https://localhost:8080/",
          "height": 297
        },
        "id": "i3-dimiA3Jny",
        "outputId": "e011ee96-45f4-4ab7-e3f6-37a4033fbfda"
      },
      "execution_count": null,
      "outputs": [
        {
          "output_type": "execute_result",
          "data": {
            "text/plain": [
              "<matplotlib.axes._subplots.AxesSubplot at 0x7fe889a633d0>"
            ]
          },
          "metadata": {},
          "execution_count": 53
        },
        {
          "output_type": "display_data",
          "data": {
            "text/plain": [
              "<Figure size 432x288 with 1 Axes>"
            ],
            "image/png": "[encoded data removed]"
          },
          "metadata": {}
        }
      ]
    },
    {
      "cell_type": "code",
      "source": [
        "# monthly trend on the start time, i.e, when the accidents take place.\n",
        "sns.distplot(df.Start_Time.dt.month, bins=12, kde=False, norm_hist=True)"
      ],
      "metadata": {
        "colab": {
          "base_uri": "https://localhost:8080/",
          "height": 297
        },
        "id": "J9D6ijed7sXW",
        "outputId": "a3a19ef4-1181-4bd2-bd20-b64ca9974c06"
      },
      "execution_count": null,
      "outputs": [
        {
          "output_type": "execute_result",
          "data": {
            "text/plain": [
              "<matplotlib.axes._subplots.AxesSubplot at 0x7fe840212760>"
            ]
          },
          "metadata": {},
          "execution_count": 54
        },
        {
          "output_type": "display_data",
          "data": {
            "text/plain": [
              "<Figure size 432x288 with 1 Axes>"
            ],
            "image/png": "[encoded data removed]"
          },
          "metadata": {}
        }
      ]
    },
    {
      "cell_type": "code",
      "source": [
        "# year-wise trend on accidents\n",
        "df.Start_Time.dt.year\n",
        "# accidents exclusive to 2019\n",
        "df_2019 = df[df.Start_Time.dt.year == 2019]"
      ],
      "metadata": {
        "id": "ipXTM4rcGUak"
      },
      "execution_count": null,
      "outputs": []
    },
    {
      "cell_type": "code",
      "source": [
        "sns.distplot(df_2019.Start_Time.dt.month, bins=12, kde=False, norm_hist=True)"
      ],
      "metadata": {
        "colab": {
          "base_uri": "https://localhost:8080/",
          "height": 297
        },
        "id": "_-rAsQFdJVoN",
        "outputId": "b0d90c37-0005-4188-c46d-cd461244592a"
      },
      "execution_count": null,
      "outputs": [
        {
          "output_type": "execute_result",
          "data": {
            "text/plain": [
              "<matplotlib.axes._subplots.AxesSubplot at 0x7fe88850db80>"
            ]
          },
          "metadata": {},
          "execution_count": 56
        },
        {
          "output_type": "display_data",
          "data": {
            "text/plain": [
              "<Figure size 432x288 with 1 Axes>"
            ],
            "image/png": "[encoded data removed]"
          },
          "metadata": {}
        }
      ]
    },
    {
      "cell_type": "code",
      "source": [
        "# looking out for missing data through the source where the data came from\n",
        "df_2019_Bing = df_2019[df_2019.Source == 'Bing']"
      ],
      "metadata": {
        "colab": {
          "base_uri": "https://localhost:8080/",
          "height": 304
        },
        "id": "xCs-8kiILEF_",
        "outputId": "6d981c58-2acd-4647-8656-2880b51df343"
      },
      "execution_count": null,
      "outputs": [
        {
          "output_type": "error",
          "ename": "AttributeError",
          "evalue": "ignored",
          "traceback": [
            "\u001b[0;31m---------------------------------------------------------------------------\u001b[0m",
            "\u001b[0;31mAttributeError\u001b[0m                            Traceback (most recent call last)",
            "\u001b[0;32m<ipython-input-66-ed20c6a286c7>\u001b[0m in \u001b[0;36m<module>\u001b[0;34m\u001b[0m\n\u001b[1;32m      1\u001b[0m \u001b[0;31m# looking out for missing data through the source where the data came from\u001b[0m\u001b[0;34m\u001b[0m\u001b[0;34m\u001b[0m\u001b[0;34m\u001b[0m\u001b[0m\n\u001b[0;32m----> 2\u001b[0;31m \u001b[0mdf_2019_Bing\u001b[0m \u001b[0;34m=\u001b[0m \u001b[0mdf_2019\u001b[0m\u001b[0;34m[\u001b[0m\u001b[0mdf_2019\u001b[0m\u001b[0;34m.\u001b[0m\u001b[0mSource\u001b[0m \u001b[0;34m==\u001b[0m \u001b[0;34m'Bing'\u001b[0m\u001b[0;34m]\u001b[0m\u001b[0;34m\u001b[0m\u001b[0;34m\u001b[0m\u001b[0m\n\u001b[0m",
            "\u001b[0;32m/usr/local/lib/python3.8/dist-packages/pandas/core/generic.py\u001b[0m in \u001b[0;36m__getattr__\u001b[0;34m(self, name)\u001b[0m\n\u001b[1;32m   5485\u001b[0m         ):\n\u001b[1;32m   5486\u001b[0m             \u001b[0;32mreturn\u001b[0m \u001b[0mself\u001b[0m\u001b[0;34m[\u001b[0m\u001b[0mname\u001b[0m\u001b[0;34m]\u001b[0m\u001b[0;34m\u001b[0m\u001b[0;34m\u001b[0m\u001b[0m\n\u001b[0;32m-> 5487\u001b[0;31m         \u001b[0;32mreturn\u001b[0m \u001b[0mobject\u001b[0m\u001b[0;34m.\u001b[0m\u001b[0m__getattribute__\u001b[0m\u001b[0;34m(\u001b[0m\u001b[0mself\u001b[0m\u001b[0;34m,\u001b[0m \u001b[0mname\u001b[0m\u001b[0;34m)\u001b[0m\u001b[0;34m\u001b[0m\u001b[0;34m\u001b[0m\u001b[0m\n\u001b[0m\u001b[1;32m   5488\u001b[0m \u001b[0;34m\u001b[0m\u001b[0m\n\u001b[1;32m   5489\u001b[0m     \u001b[0;32mdef\u001b[0m \u001b[0m__setattr__\u001b[0m\u001b[0;34m(\u001b[0m\u001b[0mself\u001b[0m\u001b[0;34m,\u001b[0m \u001b[0mname\u001b[0m\u001b[0;34m:\u001b[0m \u001b[0mstr\u001b[0m\u001b[0;34m,\u001b[0m \u001b[0mvalue\u001b[0m\u001b[0;34m)\u001b[0m \u001b[0;34m->\u001b[0m \u001b[0;32mNone\u001b[0m\u001b[0;34m:\u001b[0m\u001b[0;34m\u001b[0m\u001b[0;34m\u001b[0m\u001b[0m\n",
            "\u001b[0;31mAttributeError\u001b[0m: 'DataFrame' object has no attribute 'Source'"
          ]
        }
      ]
    },
    {
      "cell_type": "markdown",
      "source": [
        "#### Start Latittude and Start Longitude Columns Analysis"
      ],
      "metadata": {
        "id": "7lpKzsYZNyq-"
      }
    },
    {
      "cell_type": "code",
      "source": [
        "df.Start_Lat"
      ],
      "metadata": {
        "colab": {
          "base_uri": "https://localhost:8080/"
        },
        "id": "s9T0N9N0Mu-Q",
        "outputId": "86158578-ce4e-4f6a-b147-eed85c5fe21e"
      },
      "execution_count": null,
      "outputs": [
        {
          "output_type": "execute_result",
          "data": {
            "text/plain": [
              "0          40.108910\n",
              "4          39.172393\n",
              "5          39.063240\n",
              "7          41.375310\n",
              "8          40.702247\n",
              "             ...    \n",
              "2845337    34.002480\n",
              "2845338    32.766960\n",
              "2845339    33.775450\n",
              "2845340    33.992460\n",
              "2845341    34.133930\n",
              "Name: Start_Lat, Length: 2355617, dtype: float64"
            ]
          },
          "metadata": {},
          "execution_count": 57
        }
      ]
    },
    {
      "cell_type": "code",
      "source": [
        "df.Start_Lng"
      ],
      "metadata": {
        "colab": {
          "base_uri": "https://localhost:8080/"
        },
        "id": "EaXGu7r5Oh5y",
        "outputId": "e94ac421-8a4a-415c-de68-6371e82e4d7a"
      },
      "execution_count": null,
      "outputs": [
        {
          "output_type": "execute_result",
          "data": {
            "text/plain": [
              "0          -83.092860\n",
              "4          -84.492792\n",
              "5          -84.032430\n",
              "7          -81.820170\n",
              "8          -84.075887\n",
              "              ...    \n",
              "2845337   -117.379360\n",
              "2845338   -117.148060\n",
              "2845339   -117.847790\n",
              "2845340   -118.403020\n",
              "2845341   -117.230920\n",
              "Name: Start_Lng, Length: 2355617, dtype: float64"
            ]
          },
          "metadata": {},
          "execution_count": 58
        }
      ]
    },
    {
      "cell_type": "code",
      "source": [
        "# scatterplot to know more about the points\n",
        "sns.scatterplot(x=df.Start_Lng, y=df.Start_Lat)"
      ],
      "metadata": {
        "colab": {
          "base_uri": "https://localhost:8080/",
          "height": 299
        },
        "id": "hwcsAEA4OmY0",
        "outputId": "5fa24b93-a686-4a1a-b48e-677f0fa9ba65"
      },
      "execution_count": null,
      "outputs": [
        {
          "output_type": "execute_result",
          "data": {
            "text/plain": [
              "<matplotlib.axes._subplots.AxesSubplot at 0x7fe88974f160>"
            ]
          },
          "metadata": {},
          "execution_count": 59
        },
        {
          "output_type": "display_data",
          "data": {
            "text/plain": [
              "<Figure size 432x288 with 1 Axes>"
            ],
            "image/png": "[encoded data removed]"
          },
          "metadata": {}
        }
      ]
    },
    {
      "cell_type": "code",
      "source": [
        "# since the above scatterplot is too crowded, taking a scatterplot of 10% of\n",
        "# the dataframe\n",
        "sample_10_percent = df.sample(int(0.1*len(df)))"
      ],
      "metadata": {
        "id": "UKgym_j0PmtM"
      },
      "execution_count": null,
      "outputs": []
    },
    {
      "cell_type": "code",
      "source": [
        "sns.scatterplot(x=sample_10_percent.Start_Lng, y=sample_10_percent.Start_Lat)"
      ],
      "metadata": {
        "colab": {
          "base_uri": "https://localhost:8080/",
          "height": 299
        },
        "id": "sS48ueP6QHPs",
        "outputId": "c8658ac8-b253-43b7-fc11-8de4a9717506"
      },
      "execution_count": null,
      "outputs": [
        {
          "output_type": "execute_result",
          "data": {
            "text/plain": [
              "<matplotlib.axes._subplots.AxesSubplot at 0x7fe885c6e130>"
            ]
          },
          "metadata": {},
          "execution_count": 61
        },
        {
          "output_type": "display_data",
          "data": {
            "text/plain": [
              "<Figure size 432x288 with 1 Axes>"
            ],
            "image/png": "[encoded data removed]"
          },
          "metadata": {}
        }
      ]
    },
    {
      "cell_type": "code",
      "source": [
        "# plotting the above scatterplot on a real map\n",
        "import folium"
      ],
      "metadata": {
        "id": "F_Y0QHuJQHJT"
      },
      "execution_count": null,
      "outputs": []
    },
    {
      "cell_type": "code",
      "source": [
        "folium.Map()"
      ],
      "metadata": {
        "colab": {
          "base_uri": "https://localhost:8080/",
          "height": 602
        },
        "id": "NSWQYKFKQw1_",
        "outputId": "d9caaa3b-e6b1-4614-f8d5-eab023975f55"
      },
      "execution_count": null,
      "outputs": [
        {
          "output_type": "execute_result",
          "data": {
            "text/plain": [
              "<folium.folium.Map at 0x7fa6e42d6e50>"
            ],
            "text/html": [
              "<div style=\"width:100%;\"><div style=\"position:relative;width:100%;height:0;padding-bottom:60%;\"><span style=\"color:#565656\">Make this Notebook Trusted to load map: File -> Trust Notebook</span><iframe srcdoc=\"&lt;!DOCTYPE html&gt;\n",
              "&lt;html&gt;\n",
              "&lt;head&gt;\n",
              "    \n",
              "    &lt;meta http-equiv=&quot;content-type&quot; content=&quot;text/html; charset=UTF-8&quot; /&gt;\n",
              "    \n",
              "        &lt;script&gt;\n",
              "            L_NO_TOUCH = false;\n",
              "            L_DISABLE_3D = false;\n",
              "        &lt;/script&gt;\n",
              "    \n",
              "    &lt;style&gt;html, body {width: 100%;height: 100%;margin: 0;padding: 0;}&lt;/style&gt;\n",
              "    &lt;style&gt;#map {position:absolute;top:0;bottom:0;right:0;left:0;}&lt;/style&gt;\n",
              "    &lt;script src=&quot;https://cdn.jsdelivr.net/npm/leaflet@1.6.0/dist/leaflet.js&quot;&gt;&lt;/script&gt;\n",
              "    &lt;script src=&quot;https://code.jquery.com/jquery-1.12.4.min.js&quot;&gt;&lt;/script&gt;\n",
              "    &lt;script src=&quot;https://maxcdn.bootstrapcdn.com/bootstrap/3.2.0/js/bootstrap.min.js&quot;&gt;&lt;/script&gt;\n",
              "    &lt;script src=&quot;https://cdnjs.cloudflare.com/ajax/libs/Leaflet.awesome-markers/2.0.2/leaflet.awesome-markers.js&quot;&gt;&lt;/script&gt;\n",
              "    &lt;link rel=&quot;stylesheet&quot; href=&quot;https://cdn.jsdelivr.net/npm/leaflet@1.6.0/dist/leaflet.css&quot;/&gt;\n",
              "    &lt;link rel=&quot;stylesheet&quot; href=&quot;https://maxcdn.bootstrapcdn.com/bootstrap/3.2.0/css/bootstrap.min.css&quot;/&gt;\n",
              "    &lt;link rel=&quot;stylesheet&quot; href=&quot;https://maxcdn.bootstrapcdn.com/bootstrap/3.2.0/css/bootstrap-theme.min.css&quot;/&gt;\n",
              "    &lt;link rel=&quot;stylesheet&quot; href=&quot;https://maxcdn.bootstrapcdn.com/font-awesome/4.6.3/css/font-awesome.min.css&quot;/&gt;\n",
              "    &lt;link rel=&quot;stylesheet&quot; href=&quot;https://cdnjs.cloudflare.com/ajax/libs/Leaflet.awesome-markers/2.0.2/leaflet.awesome-markers.css&quot;/&gt;\n",
              "    &lt;link rel=&quot;stylesheet&quot; href=&quot;https://cdn.jsdelivr.net/gh/python-visualization/folium/folium/templates/leaflet.awesome.rotate.min.css&quot;/&gt;\n",
              "    \n",
              "            &lt;meta name=&quot;viewport&quot; content=&quot;width=device-width,\n",
              "                initial-scale=1.0, maximum-scale=1.0, user-scalable=no&quot; /&gt;\n",
              "            &lt;style&gt;\n",
              "                #map_9ae39a2f7a36d0cfd7df65b4f47471de {\n",
              "                    position: relative;\n",
              "                    width: 100.0%;\n",
              "                    height: 100.0%;\n",
              "                    left: 0.0%;\n",
              "                    top: 0.0%;\n",
              "                }\n",
              "            &lt;/style&gt;\n",
              "        \n",
              "&lt;/head&gt;\n",
              "&lt;body&gt;\n",
              "    \n",
              "    \n",
              "            &lt;div class=&quot;folium-map&quot; id=&quot;map_9ae39a2f7a36d0cfd7df65b4f47471de&quot; &gt;&lt;/div&gt;\n",
              "        \n",
              "&lt;/body&gt;\n",
              "&lt;script&gt;\n",
              "    \n",
              "    \n",
              "            var map_9ae39a2f7a36d0cfd7df65b4f47471de = L.map(\n",
              "                &quot;map_9ae39a2f7a36d0cfd7df65b4f47471de&quot;,\n",
              "                {\n",
              "                    center: [0, 0],\n",
              "                    crs: L.CRS.EPSG3857,\n",
              "                    zoom: 1,\n",
              "                    zoomControl: true,\n",
              "                    preferCanvas: false,\n",
              "                }\n",
              "            );\n",
              "\n",
              "            \n",
              "\n",
              "        \n",
              "    \n",
              "            var tile_layer_a8465fcecfed3a07ccba0b942b3743cd = L.tileLayer(\n",
              "                &quot;https://{s}.tile.openstreetmap.org/{z}/{x}/{y}.png&quot;,\n",
              "                {&quot;attribution&quot;: &quot;Data by \\u0026copy; \\u003ca href=\\&quot;http://openstreetmap.org\\&quot;\\u003eOpenStreetMap\\u003c/a\\u003e, under \\u003ca href=\\&quot;http://www.openstreetmap.org/copyright\\&quot;\\u003eODbL\\u003c/a\\u003e.&quot;, &quot;detectRetina&quot;: false, &quot;maxNativeZoom&quot;: 18, &quot;maxZoom&quot;: 18, &quot;minZoom&quot;: 0, &quot;noWrap&quot;: false, &quot;opacity&quot;: 1, &quot;subdomains&quot;: &quot;abc&quot;, &quot;tms&quot;: false}\n",
              "            ).addTo(map_9ae39a2f7a36d0cfd7df65b4f47471de);\n",
              "        \n",
              "&lt;/script&gt;\n",
              "&lt;/html&gt;\" style=\"position:absolute;width:100%;height:100%;left:0;top:0;border:none !important;\" allowfullscreen webkitallowfullscreen mozallowfullscreen></iframe></div></div>"
            ]
          },
          "metadata": {},
          "execution_count": 74
        }
      ]
    },
    {
      "cell_type": "code",
      "source": [
        "lat, lon = df.Start_Lat[0], df.Start_Lng[0]"
      ],
      "metadata": {
        "id": "Mm-j5qReQwxk"
      },
      "execution_count": null,
      "outputs": []
    },
    {
      "cell_type": "code",
      "source": [
        "# locating a single (x,y) co-ordinate on the map using folium\n",
        "map = folium.Map()\n",
        "marker = folium.Marker((lat,lon))\n",
        "marker.add_to(map)\n",
        "map"
      ],
      "metadata": {
        "colab": {
          "base_uri": "https://localhost:8080/",
          "height": 602
        },
        "id": "-IOPPg_KQwrl",
        "outputId": "d7bb2d05-e14c-4993-d457-3070973f938d"
      },
      "execution_count": null,
      "outputs": [
        {
          "output_type": "execute_result",
          "data": {
            "text/plain": [
              "<folium.folium.Map at 0x7fa6e42bb4c0>"
            ],
            "text/html": [
              "<div style=\"width:100%;\"><div style=\"position:relative;width:100%;height:0;padding-bottom:60%;\"><span style=\"color:#565656\">Make this Notebook Trusted to load map: File -> Trust Notebook</span><iframe srcdoc=\"&lt;!DOCTYPE html&gt;\n",
              "&lt;html&gt;\n",
              "&lt;head&gt;\n",
              "    \n",
              "    &lt;meta http-equiv=&quot;content-type&quot; content=&quot;text/html; charset=UTF-8&quot; /&gt;\n",
              "    \n",
              "        &lt;script&gt;\n",
              "            L_NO_TOUCH = false;\n",
              "            L_DISABLE_3D = false;\n",
              "        &lt;/script&gt;\n",
              "    \n",
              "    &lt;style&gt;html, body {width: 100%;height: 100%;margin: 0;padding: 0;}&lt;/style&gt;\n",
              "    &lt;style&gt;#map {position:absolute;top:0;bottom:0;right:0;left:0;}&lt;/style&gt;\n",
              "    &lt;script src=&quot;https://cdn.jsdelivr.net/npm/leaflet@1.6.0/dist/leaflet.js&quot;&gt;&lt;/script&gt;\n",
              "    &lt;script src=&quot;https://code.jquery.com/jquery-1.12.4.min.js&quot;&gt;&lt;/script&gt;\n",
              "    &lt;script src=&quot;https://maxcdn.bootstrapcdn.com/bootstrap/3.2.0/js/bootstrap.min.js&quot;&gt;&lt;/script&gt;\n",
              "    &lt;script src=&quot;https://cdnjs.cloudflare.com/ajax/libs/Leaflet.awesome-markers/2.0.2/leaflet.awesome-markers.js&quot;&gt;&lt;/script&gt;\n",
              "    &lt;link rel=&quot;stylesheet&quot; href=&quot;https://cdn.jsdelivr.net/npm/leaflet@1.6.0/dist/leaflet.css&quot;/&gt;\n",
              "    &lt;link rel=&quot;stylesheet&quot; href=&quot;https://maxcdn.bootstrapcdn.com/bootstrap/3.2.0/css/bootstrap.min.css&quot;/&gt;\n",
              "    &lt;link rel=&quot;stylesheet&quot; href=&quot;https://maxcdn.bootstrapcdn.com/bootstrap/3.2.0/css/bootstrap-theme.min.css&quot;/&gt;\n",
              "    &lt;link rel=&quot;stylesheet&quot; href=&quot;https://maxcdn.bootstrapcdn.com/font-awesome/4.6.3/css/font-awesome.min.css&quot;/&gt;\n",
              "    &lt;link rel=&quot;stylesheet&quot; href=&quot;https://cdnjs.cloudflare.com/ajax/libs/Leaflet.awesome-markers/2.0.2/leaflet.awesome-markers.css&quot;/&gt;\n",
              "    &lt;link rel=&quot;stylesheet&quot; href=&quot;https://cdn.jsdelivr.net/gh/python-visualization/folium/folium/templates/leaflet.awesome.rotate.min.css&quot;/&gt;\n",
              "    \n",
              "            &lt;meta name=&quot;viewport&quot; content=&quot;width=device-width,\n",
              "                initial-scale=1.0, maximum-scale=1.0, user-scalable=no&quot; /&gt;\n",
              "            &lt;style&gt;\n",
              "                #map_3e0da2c349c3d1993fb20acd5b108bee {\n",
              "                    position: relative;\n",
              "                    width: 100.0%;\n",
              "                    height: 100.0%;\n",
              "                    left: 0.0%;\n",
              "                    top: 0.0%;\n",
              "                }\n",
              "            &lt;/style&gt;\n",
              "        \n",
              "&lt;/head&gt;\n",
              "&lt;body&gt;\n",
              "    \n",
              "    \n",
              "            &lt;div class=&quot;folium-map&quot; id=&quot;map_3e0da2c349c3d1993fb20acd5b108bee&quot; &gt;&lt;/div&gt;\n",
              "        \n",
              "&lt;/body&gt;\n",
              "&lt;script&gt;\n",
              "    \n",
              "    \n",
              "            var map_3e0da2c349c3d1993fb20acd5b108bee = L.map(\n",
              "                &quot;map_3e0da2c349c3d1993fb20acd5b108bee&quot;,\n",
              "                {\n",
              "                    center: [0, 0],\n",
              "                    crs: L.CRS.EPSG3857,\n",
              "                    zoom: 1,\n",
              "                    zoomControl: true,\n",
              "                    preferCanvas: false,\n",
              "                }\n",
              "            );\n",
              "\n",
              "            \n",
              "\n",
              "        \n",
              "    \n",
              "            var tile_layer_03814769ec4764eff284bb4ae1e29ad0 = L.tileLayer(\n",
              "                &quot;https://{s}.tile.openstreetmap.org/{z}/{x}/{y}.png&quot;,\n",
              "                {&quot;attribution&quot;: &quot;Data by \\u0026copy; \\u003ca href=\\&quot;http://openstreetmap.org\\&quot;\\u003eOpenStreetMap\\u003c/a\\u003e, under \\u003ca href=\\&quot;http://www.openstreetmap.org/copyright\\&quot;\\u003eODbL\\u003c/a\\u003e.&quot;, &quot;detectRetina&quot;: false, &quot;maxNativeZoom&quot;: 18, &quot;maxZoom&quot;: 18, &quot;minZoom&quot;: 0, &quot;noWrap&quot;: false, &quot;opacity&quot;: 1, &quot;subdomains&quot;: &quot;abc&quot;, &quot;tms&quot;: false}\n",
              "            ).addTo(map_3e0da2c349c3d1993fb20acd5b108bee);\n",
              "        \n",
              "    \n",
              "            var marker_f842cfac368f4f6eddc81e0eb555505a = L.marker(\n",
              "                [40.10891, -83.09286],\n",
              "                {}\n",
              "            ).addTo(map_3e0da2c349c3d1993fb20acd5b108bee);\n",
              "        \n",
              "&lt;/script&gt;\n",
              "&lt;/html&gt;\" style=\"position:absolute;width:100%;height:100%;left:0;top:0;border:none !important;\" allowfullscreen webkitallowfullscreen mozallowfullscreen></iframe></div></div>"
            ]
          },
          "metadata": {},
          "execution_count": 76
        }
      ]
    },
    {
      "cell_type": "code",
      "source": [
        "# Heatmap using folium\n",
        "from folium.plugins import HeatMap"
      ],
      "metadata": {
        "id": "6EC4Yi2kRDfd"
      },
      "execution_count": null,
      "outputs": []
    },
    {
      "cell_type": "code",
      "source": [
        "list(zip(list(df.Start_Lat), list(df.Start_Lng)))"
      ],
      "metadata": {
        "colab": {
          "base_uri": "https://localhost:8080/"
        },
        "id": "VlPXeF05WR3V",
        "outputId": "216e0607-cf36-48e5-f5fd-9dec8d82aa21"
      },
      "execution_count": null,
      "outputs": [
        {
          "output_type": "execute_result",
          "data": {
            "text/plain": [
              "[(40.10891, -83.09286),\n",
              " (39.172393, -84.49279200000002),\n",
              " (39.06324, -84.03243),\n",
              " (41.37531, -81.82016999999998),\n",
              " (40.702247, -84.075887),\n",
              " (40.10931, -82.96849),\n",
              " (39.19288, -84.47723),\n",
              " (39.13877, -84.53394),\n",
              " (41.4739, -81.704233),\n",
              " (39.582242, -83.677814),\n",
              " (40.02664, -82.9944),\n",
              " (41.679361, -83.573037),\n",
              " (40.99613, -85.26613),\n",
              " (39.0381, -84.59243000000002),\n",
              " (40.03386, -82.99601),\n",
              " (39.85798, -84.28181),\n",
              " (39.15267, -84.5395),\n",
              " (39.30732, -85.95982),\n",
              " (39.77572, -84.04815),\n",
              " (39.97643, -83.12306),\n",
              " (39.58595, -85.82518),\n",
              " (39.3638, -85.51659000000002),\n",
              " (39.45132, -85.62516),\n",
              " (39.75067, -84.14148),\n",
              " (39.2675, -81.49929),\n",
              " (39.86025, -85.96623000000002),\n",
              " (41.95677, -83.67214),\n",
              " (38.27401, -85.74844),\n",
              " (41.95677, -83.67214),\n",
              " (40.52225, -80.06666),\n",
              " (40.487814, -80.009439),\n",
              " (40.156298, -83.018431),\n",
              " (41.47461, -81.71181999999997),\n",
              " (41.0618, -81.54608),\n",
              " (40.45112, -85.15048),\n",
              " (40.35429, -85.14993),\n",
              " (39.75855, -85.13715),\n",
              " (39.74408, -85.13749),\n",
              " (39.965148, -83.020499),\n",
              " (40.72813, -84.78965),\n",
              " (39.85223, -85.25846999999997),\n",
              " (41.46747, -81.75909),\n",
              " (41.83193, -80.10143000000002),\n",
              " (39.744287, -84.204939),\n",
              " (39.71548, -84.22033),\n",
              " (39.7504, -84.20561),\n",
              " (40.04376, -82.99708000000003),\n",
              " (38.1781, -85.71946),\n",
              " (38.18577, -85.80678),\n",
              " (38.27191, -85.80838),\n",
              " (39.923905, -82.87008),\n",
              " (41.035566, -81.569917),\n",
              " (39.9239, -83.68767),\n",
              " (41.851914, -80.175232),\n",
              " (39.93849, -82.84849),\n",
              " (41.66805, -83.57063000000002),\n",
              " (41.48339, -81.66297),\n",
              " (41.50127, -81.4804),\n",
              " (39.789093, -82.989106),\n",
              " (41.67073, -81.24561),\n",
              " (41.70846, -81.17636),\n",
              " (41.44246, -81.78485),\n",
              " (39.77128, -84.1923),\n",
              " (41.50499, -81.47417),\n",
              " (40.109653, -80.2029),\n",
              " (38.38852, -81.7687),\n",
              " (41.03572, -81.57809),\n",
              " (41.47487, -81.72095),\n",
              " (41.62845, -84.80559000000002),\n",
              " (41.62894, -84.80373),\n",
              " (41.16102, -81.78573),\n",
              " (41.628232, -84.808858),\n",
              " (41.62986, -84.76619000000002),\n",
              " (39.74729, -84.21426),\n",
              " (41.42099, -81.69051999999998),\n",
              " (41.42318, -81.84674),\n",
              " (38.79691, -84.48273),\n",
              " (38.80878, -84.49638),\n",
              " (38.30155, -85.85499),\n",
              " (38.33667, -81.65623000000002),\n",
              " (38.33614, -81.65623000000002),\n",
              " (41.0961, -81.58593),\n",
              " (41.12155, -85.18715999999998),\n",
              " (38.829993, -80.667067),\n",
              " (40.05642, -83.03097),\n",
              " (41.37717, -81.5139),\n",
              " (39.17397, -84.49031),\n",
              " (39.75513, -84.16614),\n",
              " (39.17397, -84.49031),\n",
              " (38.33667, -81.65623000000002),\n",
              " (39.16417, -84.45275),\n",
              " (40.11184, -83.00883),\n",
              " (39.09881, -84.50801),\n",
              " (41.473859, -81.708409),\n",
              " (41.039988, -81.565332),\n",
              " (41.73565, -84.99082),\n",
              " (39.26566, -84.43965),\n",
              " (41.46981, -81.81104),\n",
              " (41.25666, -81.63157),\n",
              " (40.58919, -80.09885),\n",
              " (41.06356, -81.49078),\n",
              " (41.06218, -81.50595),\n",
              " (39.17736, -84.4873),\n",
              " (38.33956, -81.60991999999997),\n",
              " (41.47889, -81.6934),\n",
              " (40.58919, -80.09885),\n",
              " (41.41119000000001, -81.64414000000002),\n",
              " (39.24907, -84.44561999999998),\n",
              " (39.28775, -84.40073000000002),\n",
              " (41.47379, -81.89631),\n",
              " (41.54941, -81.60676),\n",
              " (39.74903, -84.20106),\n",
              " (39.89473, -83.044),\n",
              " (39.19641, -84.47331),\n",
              " (39.22461, -84.45364000000002),\n",
              " (39.15306, -84.44283),\n",
              " (39.97262, -82.98368),\n",
              " (40.535447, -80.03596),\n",
              " (40.529455, -80.03506999999998),\n",
              " (41.49647, -81.67733),\n",
              " (41.0634, -81.49079),\n",
              " (41.46822, -81.9476),\n",
              " (41.92479, -83.36026),\n",
              " (41.184738, -80.432713),\n",
              " (40.27317, -85.5577),\n",
              " (39.98264, -85.14301999999998),\n",
              " (40.27317, -85.5577),\n",
              " (40.42667, -85.54968000000002),\n",
              " (39.97527, -85.14018),\n",
              " (39.09889, -84.52118),\n",
              " (38.88012, -84.62527),\n",
              " (38.79256, -84.60423),\n",
              " (39.74284, -84.20479),\n",
              " (40.484222, -80.13755400000002),\n",
              " (41.20104, -80.06859),\n",
              " (39.05528, -84.39072),\n",
              " (41.623325, -83.692226),\n",
              " (40.53024, -80.00957),\n",
              " (40.06527, -82.99591),\n",
              " (40.43954, -80.00971),\n",
              " (41.422004, -81.730092),\n",
              " (39.3638, -85.51659000000002),\n",
              " (39.82083, -85.7749),\n",
              " (39.855691, -84.29079200000002),\n",
              " (39.83939, -85.55752),\n",
              " (40.13386, -80.00666),\n",
              " (40.43954, -80.00971),\n",
              " (40.13386, -80.00666),\n",
              " (40.13386, -80.00666),\n",
              " (39.97859, -82.9763),\n",
              " (39.95459, -83.04255),\n",
              " (39.68291, -85.97372),\n",
              " (39.99921, -83.02875),\n",
              " (38.1781, -85.71946),\n",
              " (39.87433, -82.99882),\n",
              " (41.90473, -83.36986),\n",
              " (40.77137000000001, -84.62203000000002),\n",
              " (40.80059, -84.61374),\n",
              " (39.87433, -82.99882),\n",
              " (40.78593, -84.61787),\n",
              " (40.80059, -84.61374),\n",
              " (41.67487, -83.57266),\n",
              " (41.47376, -81.86113),\n",
              " (38.33465, -85.75389),\n",
              " (39.14014, -84.53495),\n",
              " (41.80143, -85.34888000000002),\n",
              " (41.35761, -81.81988),\n",
              " (38.824929, -85.47449499999998),\n",
              " (41.19362, -80.2374),\n",
              " (40.55267, -85.14974000000002),\n",
              " (40.56744000000001, -85.14993),\n",
              " (40.14212, -81.55153),\n",
              " (39.94397, -82.41127),\n",
              " (39.96893, -83.11922),\n",
              " (40.11184, -83.00883),\n",
              " (41.06347, -81.50372),\n",
              " (39.972931, -85.965783),\n",
              " (39.95459, -83.04255),\n",
              " (40.11184, -83.00883),\n",
              " (39.97241, -82.84695),\n",
              " (39.9912, -85.9188),\n",
              " (41.11987, -80.69004),\n",
              " (41.11851, -80.69242),\n",
              " (40.05642, -83.03097),\n",
              " (38.117487, -85.760397),\n",
              " (41.44134, -81.65055),\n",
              " (38.61531, -80.76034),\n",
              " (41.124052, -80.677589),\n",
              " (39.95085, -82.94428),\n",
              " (41.06257, -81.52228000000002),\n",
              " (40.11212, -83.03905999999998),\n",
              " (39.887033, -83.043909),\n",
              " (40.04916, -83.03336),\n",
              " (41.12906, -85.1612),\n",
              " (41.17798, -85.10323000000002),\n",
              " (38.08783, -83.90263),\n",
              " (39.149639, -84.539381),\n",
              " (40.9605, -85.3528),\n",
              " (40.96051, -85.34522),\n",
              " (41.08204, -80.64846999999997),\n",
              " (41.61791, -83.54106999999998),\n",
              " (38.41592, -82.3465),\n",
              " (41.67571, -83.69385),\n",
              " (39.08272, -84.52264),\n",
              " (39.280947, -80.278075),\n",
              " (38.36387, -81.73867),\n",
              " (40.0187, -82.90465999999998),\n",
              " (41.53757, -81.64083000000002),\n",
              " (41.16522, -81.47454),\n",
              " (40.322818, -83.071034),\n",
              " (41.73565, -84.99082),\n",
              " (39.82122, -85.76482),\n",
              " (41.11889, -81.65406999999998),\n",
              " (40.121557, -83.151457),\n",
              " (40.11017, -83.15876999999998),\n",
              " (41.57777, -81.54987),\n",
              " (40.121557, -83.151457),\n",
              " (40.11017, -83.15876999999998),\n",
              " (41.04592, -81.69463),\n",
              " (41.42099, -81.69051999999998),\n",
              " (39.27486, -84.346),\n",
              " (39.28266, -84.56742),\n",
              " (39.9467, -82.22232),\n",
              " (39.17397, -84.49031),\n",
              " (39.17736, -84.4873),\n",
              " (39.9467, -82.22232),\n",
              " (39.9467, -82.22232),\n",
              " (41.68518, -83.5678),\n",
              " (41.66572, -83.5652),\n",
              " (39.27125, -84.35176),\n",
              " (41.47395, -81.69931),\n",
              " (39.98505, -80.74006),\n",
              " (39.95813, -80.76219),\n",
              " (41.56544, -81.5835),\n",
              " (41.53968, -81.62795),\n",
              " (41.55264, -81.60032),\n",
              " (40.49223, -80.01029),\n",
              " (41.48836, -81.66471),\n",
              " (39.95085, -82.94428),\n",
              " (41.42063, -81.80859),\n",
              " (40.82949, -81.39732),\n",
              " (41.40091, -81.81724),\n",
              " (38.870386, -84.624429),\n",
              " (41.47974, -81.6667),\n",
              " (40.30095, -80.16651999999998),\n",
              " (39.11543, -84.50003000000002),\n",
              " (41.1419, -81.47694),\n",
              " (39.14917, -84.44711),\n",
              " (39.81979000000001, -84.18908),\n",
              " (39.84509, -84.1899),\n",
              " (41.47461, -81.71181999999997),\n",
              " (39.17304, -84.47589),\n",
              " (39.1021, -84.49754),\n",
              " (41.49873, -81.67260999999998),\n",
              " (39.12627, -84.53509),\n",
              " (41.47394600000001, -81.699011),\n",
              " (39.9745, -83.09654),\n",
              " (39.85911, -84.2808),\n",
              " (39.24943, -84.36541),\n",
              " (41.4675, -81.49014),\n",
              " (40.27317, -85.5577),\n",
              " (40.42667, -85.54968000000002),\n",
              " (40.08978, -82.98725999999998),\n",
              " (40.0122, -82.99188000000002),\n",
              " (39.3781, -84.365),\n",
              " (39.11919, -84.53539),\n",
              " (39.05029, -83.77673),\n",
              " (39.04827, -83.77199),\n",
              " (40.0717, -82.90821),\n",
              " (39.09655, -84.48312),\n",
              " (40.43077, -80.02638),\n",
              " (41.443708, -85.19285),\n",
              " (41.438119, -85.15969399999999),\n",
              " (41.46747, -81.75909),\n",
              " (41.104217, -81.499987),\n",
              " (41.1003, -81.4999),\n",
              " (41.46375, -81.69353000000002),\n",
              " (41.52134, -83.45642),\n",
              " (41.52549000000001, -83.46344),\n",
              " (41.43166, -81.68160999999998),\n",
              " (38.22363, -85.50532),\n",
              " (40.85466, -81.41646999999998),\n",
              " (38.22272, -85.50111),\n",
              " (39.12424, -84.53501),\n",
              " (39.09858, -84.51974),\n",
              " (39.63551, -84.19519),\n",
              " (40.39715, -80.10368000000003),\n",
              " (41.56709, -81.57816),\n",
              " (41.18225, -84.94275999999998),\n",
              " (39.10148, -84.52341),\n",
              " (41.55245, -83.60061999999998),\n",
              " (41.3513, -83.62276),\n",
              " (39.25015, -81.30566),\n",
              " (41.345031, -82.285379),\n",
              " (41.351335, -82.26144599999998),\n",
              " (41.68971, -83.53045999999998),\n",
              " (41.4051, -81.8184),\n",
              " (41.874915, -85.409527),\n",
              " (41.890234, -85.409642),\n",
              " (39.83727, -83.09326999999998),\n",
              " (40.98954000000001, -81.49372),\n",
              " (41.10389, -81.5),\n",
              " (41.42099, -81.69051999999998),\n",
              " (39.833935, -84.061832),\n",
              " (39.93654, -83.40048),\n",
              " (39.95612, -83.37499),\n",
              " (40.02155, -83.0354),\n",
              " (39.97518, -85.63374),\n",
              " (39.94576, -85.63454),\n",
              " (40.27744000000001, -85.72518000000002),\n",
              " (41.68648, -83.5669),\n",
              " (41.68976, -83.666),\n",
              " (41.4758, -81.66036),\n",
              " (41.96429000000001, -83.35018000000002),\n",
              " (41.282993, -83.638931),\n",
              " (41.63126, -83.48336),\n",
              " (41.427584, -85.8495),\n",
              " (41.471378, -85.839527),\n",
              " (41.46747, -81.75909),\n",
              " (41.94495, -80.40234),\n",
              " (41.438774, -81.80341999999997),\n",
              " (39.73629, -84.20489),\n",
              " (41.41101, -81.66634),\n",
              " (39.24464, -84.44835),\n",
              " (39.95459, -83.04255),\n",
              " (39.97527, -85.14018),\n",
              " (39.98511, -85.14406),\n",
              " (38.29514, -85.75655),\n",
              " (39.93654, -83.40048),\n",
              " (39.11543, -84.50003000000002),\n",
              " (41.030684, -81.885739),\n",
              " (41.43166, -81.68160999999998),\n",
              " (40.6664, -80.227514),\n",
              " (40.67137, -80.22581),\n",
              " (40.354252, -85.843032),\n",
              " (40.402251, -85.842969),\n",
              " (41.26752000000001, -85.85673),\n",
              " (39.97307, -82.98405),\n",
              " (39.9672, -81.28699999999998),\n",
              " (39.96392, -81.27197),\n",
              " (41.52631, -83.62123000000003),\n",
              " (39.93292, -82.83025),\n",
              " (39.08272, -84.52264),\n",
              " (39.8552, -84.32502),\n",
              " (41.65404, -85.70526),\n",
              " (41.39465, -81.65326),\n",
              " (41.06211, -81.53053),\n",
              " (41.09598, -81.49976),\n",
              " (41.85222, -85.67843),\n",
              " (38.148808, -80.929665),\n",
              " (41.52447, -85.57791),\n",
              " (41.5105, -85.57781),\n",
              " (39.90524, -82.89541),\n",
              " (41.23598, -81.49325999999998),\n",
              " (38.70101, -80.66483000000002),\n",
              " (39.22498, -84.38094),\n",
              " (40.776023, -80.12718100000002),\n",
              " (38.86027, -80.65729),\n",
              " (39.88203, -83.04748000000002),\n",
              " (39.89253400000001, -83.038786),\n",
              " (39.89698, -83.03428000000002),\n",
              " (41.67439, -83.693727),\n",
              " (41.12999, -85.15503000000002),\n",
              " (39.09889, -84.52118),\n",
              " (41.52631, -83.62123000000003),\n",
              " (39.088552, -84.522724),\n",
              " (39.95423, -82.98879000000002),\n",
              " (39.21018, -84.46345),\n",
              " (39.95369, -82.96403000000002),\n",
              " (40.40934, -80.19247),\n",
              " (40.44126, -80.19314),\n",
              " (39.16161, -84.51375),\n",
              " (39.75855, -85.13715),\n",
              " (41.67571, -83.69385),\n",
              " (41.67571, -83.69385),\n",
              " (39.28805, -84.37462),\n",
              " (41.53618, -83.6176),\n",
              " (39.07202, -84.51907),\n",
              " (38.259133, -85.752672),\n",
              " (40.44425, -80.02821),\n",
              " (40.44278, -80.02468),\n",
              " (40.35405, -80.13756),\n",
              " (40.35449000000001, -80.13835999999998),\n",
              " (41.02454, -80.92163000000002),\n",
              " (41.02413, -80.90579),\n",
              " (39.16437, -84.43731),\n",
              " (39.748585, -84.226084),\n",
              " (39.4728, -80.11963),\n",
              " (41.187807, -80.149019),\n",
              " (41.19242, -80.15860500000002),\n",
              " (41.64679, -83.54913),\n",
              " (39.97401, -82.99355),\n",
              " (41.68843, -83.56258000000003),\n",
              " (41.67904, -83.5732),\n",
              " (39.25249, -84.36493),\n",
              " (38.310736, -85.590395),\n",
              " (41.46941, -81.80535),\n",
              " (41.68721, -83.55579),\n",
              " (41.43869, -81.80554000000002),\n",
              " (39.097654, -84.516019),\n",
              " (41.34965, -81.51146),\n",
              " (41.37717, -81.5139),\n",
              " (40.12589000000001, -80.13661),\n",
              " (40.13189000000001, -80.132407),\n",
              " (40.00507, -83.1186),\n",
              " (39.43794000000001, -82.53893000000002),\n",
              " (39.12627, -84.53509),\n",
              " (38.07759, -84.45711999999997),\n",
              " (40.09079000000001, -82.90783),\n",
              " (39.64731, -85.91696999999998),\n",
              " (39.08927, -84.5227),\n",
              " (38.26109, -85.73695),\n",
              " (39.05654000000001, -84.54283000000002),\n",
              " (41.42413, -81.64519),\n",
              " (39.28638, -84.42706),\n",
              " (41.37499, -83.61635),\n",
              " (41.06228, -81.50986999999998),\n",
              " (41.53907, -81.63354),\n",
              " (40.04916, -83.03336),\n",
              " (41.13613, -81.72196),\n",
              " (39.09891, -84.49181999999998),\n",
              " (39.96268, -82.84305),\n",
              " (39.17397, -84.49031),\n",
              " (39.16911, -84.42104),\n",
              " (39.003821, -80.391285),\n",
              " (40.521732, -81.64755),\n",
              " (40.513361, -81.651599),\n",
              " (38.839151, -82.152877),\n",
              " (40.27675, -85.49916),\n",
              " (40.52168, -80.13163),\n",
              " (39.83711, -84.54392),\n",
              " (39.02296, -84.51784),\n",
              " (39.02397, -84.48039),\n",
              " (38.22433, -85.751),\n",
              " (39.27734, -84.86438000000003),\n",
              " (41.47965, -81.66758),\n",
              " (40.44846, -80.00755),\n",
              " (39.09891, -84.28556999999998),\n",
              " (41.06026, -81.55485999999998),\n",
              " (41.802758, -83.684687),\n",
              " (38.0791, -83.94591),\n",
              " (38.01846, -84.15159),\n",
              " (38.30344, -85.88893),\n",
              " (38.84109, -85.81618),\n",
              " (41.14181, -80.72015999999998),\n",
              " (41.04263, -81.50543),\n",
              " (38.21089, -85.82606),\n",
              " (39.75067, -84.14148),\n",
              " (38.28581, -85.50792),\n",
              " (38.23585, -85.658849),\n",
              " (38.20249, -85.68697),\n",
              " (40.53491, -83.10678),\n",
              " (40.52035, -83.10043),\n",
              " (38.22811, -85.7514),\n",
              " (40.41233, -80.07815),\n",
              " (39.7504, -84.20561),\n",
              " (39.08272, -84.52264),\n",
              " (39.781457, -85.839651),\n",
              " (39.781457, -85.839651),\n",
              " (41.06076, -81.45923),\n",
              " (39.688148, -83.88431),\n",
              " (39.693164, -83.882745),\n",
              " (39.9488, -83.02845),\n",
              " (39.797697, -84.189677),\n",
              " (39.20326, -85.95763000000002),\n",
              " (39.24464, -84.44835),\n",
              " (39.73733, -84.25733000000002),\n",
              " (39.969853, -85.972976),\n",
              " (41.11889, -81.65406999999998),\n",
              " (39.13219, -84.49464),\n",
              " (41.458, -83.62201999999998),\n",
              " (40.09268, -83.03726),\n",
              " (40.066965, -83.289888),\n",
              " (40.045608, -83.29660799999998),\n",
              " (39.97307, -82.98405),\n",
              " (39.98248, -85.123922),\n",
              " (39.981095, -85.11027299999998),\n",
              " (40.43021, -80.02554),\n",
              " (40.43219000000001, -80.02781999999998),\n",
              " (39.976567, -83.128639),\n",
              " (41.256658, -85.363439),\n",
              " (41.37499, -83.61635),\n",
              " (41.252653, -85.347328),\n",
              " (39.93658, -83.00941999999998),\n",
              " (39.14014, -84.53495),\n",
              " (40.153014, -82.970316),\n",
              " (39.90524, -82.89541),\n",
              " (41.08789, -83.65977),\n",
              " (39.9488, -83.02845),\n",
              " (41.47585, -81.87980999999998),\n",
              " (39.1079, -84.50284),\n",
              " (38.340803, -81.680728),\n",
              " (40.96473, -85.28862),\n",
              " (38.441, -82.12679),\n",
              " (38.441, -82.12679),\n",
              " (38.18977, -83.48379),\n",
              " (41.194131, -80.201982),\n",
              " (40.09601, -83.13626),\n",
              " (41.23632, -83.65401999999997),\n",
              " (39.25249, -84.36493),\n",
              " (38.583372, -81.994824),\n",
              " (38.58119600000001, -82.004356),\n",
              " (40.55549, -80.11634000000002),\n",
              " (41.484589, -81.691778),\n",
              " (41.22734000000001, -81.62705),\n",
              " (39.04695, -84.57498000000002),\n",
              " (39.8888, -82.88181999999998),\n",
              " (39.74729, -84.21426),\n",
              " (39.97415, -83.09486),\n",
              " (39.949808, -83.02289300000002),\n",
              " (39.95141, -83.0137),\n",
              " (38.7056, -80.66107),\n",
              " (41.110996, -80.82384),\n",
              " (41.53907, -81.63354),\n",
              " (41.121599, -80.789503),\n",
              " (41.31438, -81.51286),\n",
              " (40.42005, -80.03531),\n",
              " (39.9589, -82.98257),\n",
              " (39.89087, -83.85382),\n",
              " (39.89862, -83.85353),\n",
              " (41.41218, -81.61371),\n",
              " (38.306159, -80.833765),\n",
              " (41.47974, -81.6667),\n",
              " (41.526, -81.65974),\n",
              " (39.75022, -84.19668),\n",
              " (39.82329, -84.166569),\n",
              " (39.818751, -84.167637),\n",
              " (41.47379, -81.69592),\n",
              " (41.47395, -81.69931),\n",
              " (40.15106, -80.03243),\n",
              " (41.67178, -83.6939),\n",
              " (40.42116, -80.0438),\n",
              " (41.341147, -83.347543),\n",
              " (41.34131, -83.376561),\n",
              " (41.47965, -81.66758),\n",
              " (41.47487, -81.72095),\n",
              " (39.94976, -83.04032),\n",
              " (36.9903, -119.71146),\n",
              " (38.618901, -121.416952),\n",
              " (38.708064, -121.308638),\n",
              " (38.231472, -122.112049),\n",
              " (38.53378, -123.275712),\n",
              " (38.087531, -119.182316),\n",
              " (38.65838, -121.53471),\n",
              " (37.29338, -121.87228),\n",
              " (37.99417, -122.29681),\n",
              " (37.82487, -122.31409),\n",
              " (37.29338, -121.87228),\n",
              " (38.59901, -122.58397),\n",
              " (38.66387, -121.35723),\n",
              " (38.71912, -121.54051),\n",
              " (37.92233, -122.34755),\n",
              " (38.6298, -121.51947),\n",
              " (38.22931, -122.117087),\n",
              " (37.4159, -121.97743),\n",
              " (37.29364, -121.80974),\n",
              " (38.737213, -120.71804),\n",
              " (38.598987, -121.470446),\n",
              " (38.60021, -121.457923),\n",
              " (39.10357, -121.55),\n",
              " (38.228198, -122.119575),\n",
              " (39.15012, -119.74494),\n",
              " (36.1979, -121.15137),\n",
              " (38.43172, -122.71663999999998),\n",
              " (38.84685, -120.02881),\n",
              " (38.7764, -119.9189),\n",
              " (38.82653, -120.03011),\n",
              " (38.229401, -122.116877),\n",
              " (38.588998, -121.41547),\n",
              " (35.55134, -121.07163),\n",
              " (35.52718, -121.04482),\n",
              " (36.2338, -121.17451),\n",
              " (38.378999, -120.802636),\n",
              " (39.3167, -120.81198),\n",
              " (39.30814, -120.54101),\n",
              " (39.20037, -121.22282),\n",
              " (39.23489, -120.75429),\n",
              " (39.336832, -120.35291399999998),\n",
              " (39.21299000000001, -120.77958),\n",
              " (35.69116, -121.2895),\n",
              " (35.72088, -118.49953),\n",
              " (35.72093, -118.49992),\n",
              " (34.00712, -117.8262),\n",
              " (34.42002, -118.58149),\n",
              " (34.426829999999995, -118.42033),\n",
              " (34.42512, -118.58446),\n",
              " (34.42002, -118.58149),\n",
              " (34.28241, -118.73976),\n",
              " (34.49496, -116.94537),\n",
              " (34.4594, -116.94576),\n",
              " (34.21456, -118.35154),\n",
              " (34.28213, -118.76565),\n",
              " (33.99493, -117.05986),\n",
              " (34.084579999999995, -117.3005),\n",
              " (34.06392, -117.27239),\n",
              " (34.583175, -118.343213),\n",
              " (34.583166, -118.343323),\n",
              " (34.566266, -118.686173),\n",
              " (33.93249, -116.98771),\n",
              " (34.88564, -117.05115),\n",
              " (34.37743, -118.49367),\n",
              " (34.567, -118.68623),\n",
              " (34.365552, -118.503431),\n",
              " (33.880115999999994, -116.991175),\n",
              " (34.45254, -118.6151),\n",
              " (33.918620000000004, -116.77986),\n",
              " (33.933499, -117.000073),\n",
              " (34.36481, -118.55634),\n",
              " (34.43401, -118.38413),\n",
              " (34.43678, -118.372328),\n",
              " (34.432644, -118.383992),\n",
              " (34.28212, -118.7831),\n",
              " (34.45254, -118.6151),\n",
              " (34.48851, -118.61849),\n",
              " (34.266409, -118.639473),\n",
              " (34.392520000000005, -118.47283),\n",
              " (34.27241, -118.55762),\n",
              " (34.2731, -118.55087),\n",
              " (34.34429, -118.50495),\n",
              " (34.383720000000004, -118.56814),\n",
              " (34.42727, -118.41935),\n",
              " (33.32574, -116.70212),\n",
              " (34.00112, -117.06336),\n",
              " (34.2731, -118.55087),\n",
              " (33.7368, -116.94554),\n",
              " (34.42727, -118.41935),\n",
              " (34.42727, -118.41935),\n",
              " (34.42727, -118.41935),\n",
              " (34.4108, -118.66964),\n",
              " (33.9346, -116.99299),\n",
              " (33.93327, -116.993167),\n",
              " (34.34429, -118.50495),\n",
              " (34.37536, -118.56319),\n",
              " (34.45194, -118.61482),\n",
              " (34.44042, -118.59981),\n",
              " (33.94764, -117.00579),\n",
              " (34.41931, -118.58112),\n",
              " (34.46626, -118.33428),\n",
              " (33.918620000000004, -116.78213),\n",
              " (33.92718, -116.97314),\n",
              " (34.27915, -118.66579),\n",
              " (34.383720000000004, -118.56814),\n",
              " (34.400459999999995, -118.45848),\n",
              " (34.00683, -117.06672),\n",
              " (33.960708000000004, -117.024528),\n",
              " (34.38725, -118.58018),\n",
              " (34.39054, -118.47588),\n",
              " (34.35929, -118.55393),\n",
              " (34.41931, -118.58112),\n",
              " (34.433820000000004, -118.38894),\n",
              " (34.28595, -118.79723),\n",
              " (34.43354, -118.38624),\n",
              " (34.361582, -118.505413),\n",
              " (34.37536, -118.56319),\n",
              " (34.48684, -118.61692),\n",
              " (34.340983, -118.521831),\n",
              " (34.427667, -118.418083),\n",
              " (34.48684, -118.61692),\n",
              " (34.41251, -118.57831000000002),\n",
              " (34.269659999999995, -118.63369),\n",
              " (34.46693, -118.32603),\n",
              " (34.46693, -118.32603),\n",
              " (34.46693, -118.32603),\n",
              " (34.34429, -118.50495),\n",
              " (34.38262, -118.48812),\n",
              " (34.290862, -118.808411),\n",
              " (34.409973, -118.579317),\n",
              " (34.409973, -118.579317),\n",
              " (34.4414, -118.60703999999998),\n",
              " (34.41251, -118.57831000000002),\n",
              " (33.92731, -116.96048),\n",
              " (34.2818, -118.71263),\n",
              " (34.37583, -118.49125),\n",
              " (34.3812, -118.4134),\n",
              " (34.366453, -118.502951),\n",
              " (34.349266, -118.53723),\n",
              " (34.349266, -118.53723),\n",
              " (34.43441, -118.38278),\n",
              " (34.56684, -118.68615),\n",
              " (34.363575, -118.50428),\n",
              " (34.49062, -118.6176),\n",
              " (34.49062, -118.6176),\n",
              " (34.474666, -118.544292),\n",
              " (34.47426, -118.544431),\n",
              " (34.42727, -118.41935),\n",
              " (33.74776, -116.9195),\n",
              " (33.92718, -116.97314),\n",
              " (34.2731, -118.55087),\n",
              " (34.44638, -118.6109),\n",
              " (33.934059999999995, -117.03339),\n",
              " (34.36428, -118.55286),\n",
              " (34.57247, -118.69176000000002),\n",
              " (34.35929, -118.55393),\n",
              " (34.425290000000004, -118.58455),\n",
              " (34.46693, -118.32603),\n",
              " (34.43386, -118.389502),\n",
              " (34.46693, -118.32603),\n",
              " (34.40422, -118.45219),\n",
              " (34.57247, -118.69176000000002),\n",
              " (34.423, -118.42818),\n",
              " (34.37485, -118.49663),\n",
              " (34.338807, -118.507218),\n",
              " (33.98914, -117.0556),\n",
              " (34.27636, -118.53291000000002),\n",
              " (34.438790000000004, -118.597069),\n",
              " (34.27262, -118.55966),\n",
              " (34.33988, -118.51888),\n",
              " (33.83611, -117.00357),\n",
              " (33.97045, -117.03882),\n",
              " (34.41931, -118.58112),\n",
              " (34.46693, -118.32603),\n",
              " (34.34429, -118.50495),\n",
              " (34.49213, -118.62088),\n",
              " (34.619087, -118.716396),\n",
              " (34.57247, -118.69176000000002),\n",
              " (33.93607, -116.99477),\n",
              " (34.57247, -118.69176000000002),\n",
              " (44.82561, -93.17154),\n",
              " (44.91141, -92.98417),\n",
              " (39.16337, -94.55938),\n",
              " (38.897, -104.74707),\n",
              " (38.64493, -90.52132),\n",
              " (39.62951, -104.90471),\n",
              " (38.936713, -104.797781),\n",
              " (45.09046, -93.44163),\n",
              " (44.896459, -93.24735),\n",
              " (44.86274, -93.12064),\n",
              " (38.65844, -90.44844),\n",
              " (38.57067, -90.44089),\n",
              " (45.06507, -93.16234),\n",
              " (39.05296, -94.4971),\n",
              " (40.30922, -104.98087),\n",
              " (39.486936, -104.995816),\n",
              " (38.964079, -94.358737),\n",
              " (39.01621, -94.13217),\n",
              " (32.67635, -97.18723),\n",
              " (38.80309000000001, -90.73641),\n",
              " (32.69571, -97.47773),\n",
              " (45.01828, -93.28236),\n",
              " (44.97104, -93.46055),\n",
              " (32.85079, -97.01662),\n",
              " (44.8917, -93.00714),\n",
              " (44.95968, -93.20027),\n",
              " (32.685559999999995, -97.24038),\n",
              " (38.58496, -90.44863),\n",
              " (32.72432, -96.76198),\n",
              " (45.85420300000001, -94.09286),\n",
              " (29.57248, -98.32804),\n",
              " (38.58496, -90.44863),\n",
              " (30.27000300000001, -90.942407),\n",
              " (39.85183, -104.98631),\n",
              " (44.77189, -93.28836),\n",
              " (44.84037, -93.54596),\n",
              " (33.058440000000004, -96.69348),\n",
              " (39.87186, -104.9877),\n",
              " (39.1273, -94.49773),\n",
              " (44.77446, -93.29272),\n",
              " (32.69031, -96.822992),\n",
              " (32.87835, -96.68734),\n",
              " (44.949501, -93.27456),\n",
              " (38.965991, -94.723629),\n",
              " (38.97081, -94.51759),\n",
              " (38.76717100000001, -90.490912),\n",
              " (45.20402, -93.35158),\n",
              " (38.98585, -94.35693),\n",
              " (38.94057, -94.85296),\n",
              " (39.09574, -94.5547),\n",
              " (44.94849, -92.86918),\n",
              " (38.831476, -104.840994),\n",
              " (39.09269000000001, -94.59094),\n",
              " (38.8152, -104.82453),\n",
              " (38.984591, -94.705789),\n",
              " (39.767969, -104.994983),\n",
              " (44.96542, -93.28805),\n",
              " (38.94371, -94.38134),\n",
              " (43.767345, -91.152598),\n",
              " (44.93291, -93.07175),\n",
              " (44.95185, -93.156794),\n",
              " (45.0011, -93.22074),\n",
              " (44.78608, -93.2887),\n",
              " (39.03951, -94.34597),\n",
              " (44.78608, -93.2887),\n",
              " (44.78295, -93.46334),\n",
              " (44.08074000000001, -93.2482),\n",
              " (32.71083400000001, -96.800029),\n",
              " (32.72032, -96.83036),\n",
              " (32.65764, -96.73594),\n",
              " (39.78238, -104.99836),\n",
              " (39.82096, -104.97738),\n",
              " (32.68751, -96.82485),\n",
              " (38.97424, -94.77655),\n",
              " (32.76705, -96.83571),\n",
              " (32.747555, -96.917012),\n",
              " (32.765361, -96.91461),\n",
              " (41.59562, -93.61973),\n",
              " (43.65475, -93.32052),\n",
              " (44.8619, -93.30404),\n",
              " (38.87639, -94.52615),\n",
              " (39.03766, -94.36184),\n",
              " (45.08158, -93.39719),\n",
              " (45.07581, -93.33803),\n",
              " (38.94317, -94.76363),\n",
              " (38.93554, -94.7506),\n",
              " (44.97222, -93.4153),\n",
              " (38.91626, -94.76766),\n",
              " (44.86177, -93.3138),\n",
              " (42.64228, -91.9087),\n",
              " (44.97626, -93.24667),\n",
              " (45.01025, -93.15256),\n",
              " (41.25977, -95.9263),\n",
              " (41.23191, -95.9552),\n",
              " (41.22647, -95.94935),\n",
              " (41.22831, -95.95524),\n",
              " (41.22571, -95.94792),\n",
              " (41.224892, -95.951761),\n",
              " (41.23294, -95.95464),\n",
              " (45.06464, -93.20667),\n",
              " (39.964685, -104.98817),\n",
              " (39.058812, -94.489665),\n",
              " (42.9755, -93.3468),\n",
              " (39.07892, -94.53871),\n",
              " (39.10659, -94.57144),\n",
              " (39.10664000000001, -94.57339),\n",
              " (39.05358, -94.47833),\n",
              " (41.96388, -92.45762),\n",
              " (41.96425, -92.29774),\n",
              " (38.77367, -90.41096),\n",
              " (38.95262, -94.70551),\n",
              " (45.10885, -93.30142),\n",
              " (43.6161, -93.33847),\n",
              " (32.75523, -97.699),\n",
              " (44.95233, -93.03465),\n",
              " (45.01184, -93.05163),\n",
              " (44.97033, -93.33141),\n",
              " (45.03933, -93.28487),\n",
              " (44.983912, -93.288),\n",
              " (45.10762, -93.46579),\n",
              " (45.03553, -93.08506),\n",
              " (38.9344, -94.51961),\n",
              " (44.92725, -93.39989),\n",
              " (45.01155, -93.02604),\n",
              " (44.981628, -93.287315),\n",
              " (44.88431, -93.00757),\n",
              " (32.92443, -96.780827),\n",
              " (32.897768, -96.714138),\n",
              " (32.943378, -96.903668),\n",
              " (38.59802, -90.44989),\n",
              " (32.82509, -97.3132),\n",
              " (33.00385, -96.70051),\n",
              " (39.02185, -94.20215),\n",
              " (39.107798, -94.576896),\n",
              " (32.878820000000005, -96.51348),\n",
              " (32.90791, -96.92723),\n",
              " (39.03837, -94.33649),\n",
              " (39.20608, -94.49251),\n",
              " (32.91922, -96.81791),\n",
              " (32.911751, -96.880057),\n",
              " (39.938176, -104.98794),\n",
              " (33.05036, -96.82992),\n",
              " (44.93128, -93.1397),\n",
              " (40.30922, -104.98087),\n",
              " (44.91181, -91.31724),\n",
              " (39.0923, -94.54332),\n",
              " (44.88977, -93.35351),\n",
              " (45.02403, -93.19058),\n",
              " (38.97174, -92.43467),\n",
              " (42.02378, -91.66987),\n",
              " (44.966038, -93.263041),\n",
              " (44.85882, -93.34853),\n",
              " (38.50514, -90.5828),\n",
              " (44.86157, -93.35019),\n",
              " (44.859251, -93.350253),\n",
              " (44.85862, -93.3451),\n",
              " (41.032445, -103.686372),\n",
              " (41.049148, -103.668931),\n",
              " (44.969987, -93.327792),\n",
              " (44.86131, -93.16095),\n",
              " (44.949959, -93.101234),\n",
              " (44.97212, -93.25106),\n",
              " (44.94827, -92.94158),\n",
              " (44.86055, -93.32313),\n",
              " (45.06967, -93.29676),\n",
              " (41.88262, -93.57131),\n",
              " (38.655627, -90.448268),\n",
              " (41.5923, -93.777871),\n",
              " (35.72835, -97.41639),\n",
              " (44.97222, -93.4153),\n",
              " (44.97121, -93.37512),\n",
              " (44.97062, -93.29813),\n",
              " (44.83642, -93.29692),\n",
              " (45.00177, -93.28283),\n",
              " (35.66471, -97.42213),\n",
              " (35.33664, -97.59124),\n",
              " (41.59334000000001, -93.65478),\n",
              " (44.815139, -91.4545),\n",
              " (41.59334000000001, -93.65478),\n",
              " (39.04721, -94.44629),\n",
              " (35.46028, -97.65837),\n",
              " (44.95205, -93.06522),\n",
              " (41.20526, -96.09934),\n",
              " (44.87476, -93.06634),\n",
              " (38.94041, -94.57836),\n",
              " (39.932625, -104.98788),\n",
              " (39.04267, -94.36918),\n",
              " (44.94338, -93.27485),\n",
              " (44.97296, -93.40901),\n",
              " (47.596987, -94.769456),\n",
              " (44.75693, -93.25302),\n",
              " (44.85592000000001, -93.1469),\n",
              " (46.826399, -93.614041),\n",
              " (44.85316, -93.29804),\n",
              " (41.2249, -95.97464),\n",
              " (38.94187, -94.75361),\n",
              " (41.47214, -93.55907),\n",
              " (39.56344, -104.95408),\n",
              " (41.473324, -93.559921),\n",
              " (44.91609, -93.35031),\n",
              " (48.00539000000001, -97.859596),\n",
              " (38.76209, -104.77288),\n",
              " (38.83093, -104.83997),\n",
              " (44.782908, -93.461075),\n",
              " (39.77543, -104.86141),\n",
              " (39.74993900000001, -104.826049),\n",
              " (39.00085, -93.73884),\n",
              " (40.950524, -96.64358),\n",
              " (40.900272, -96.64339),\n",
              " (39.13297, -104.86343),\n",
              " (38.90114000000001, -94.3027),\n",
              " (38.90224, -94.34557),\n",
              " (38.873975, -90.902854),\n",
              " (39.09574, -94.5547),\n",
              " (44.96999, -93.31213),\n",
              " (39.05296, -94.4971),\n",
              " (35.65546, -97.4239),\n",
              " (44.88977, -93.35351),\n",
              " (41.21429000000001, -95.95234),\n",
              " (45.10766, -93.18849),\n",
              " (44.8619, -93.30404),\n",
              " (39.02792, -94.50051),\n",
              " (44.96602, -93.26571),\n",
              " (44.90736, -93.27504),\n",
              " (44.970533, -93.28744),\n",
              " (39.10355, -94.57206),\n",
              " (41.59458, -93.64971),\n",
              " (36.01626, -96.09922),\n",
              " (44.849811, -93.500486),\n",
              " (44.85936, -93.40998),\n",
              " (44.819447, -93.209877),\n",
              " (44.89063, -93.269049),\n",
              " (44.86107, -93.16702),\n",
              " (39.61985, -104.89914),\n",
              " (44.70093, -93.28666),\n",
              " (44.95965, -93.20469),\n",
              " (44.88977, -93.35351),\n",
              " (41.618564, -93.77695),\n",
              " (44.954911, -93.270689),\n",
              " (45.06869, -93.25868),\n",
              " (44.83083, -93.29322),\n",
              " (45.13506, -93.29429),\n",
              " (44.95164000000001, -93.13388),\n",
              " (44.97147, -93.36543),\n",
              " (45.175151, -93.30184),\n",
              " (45.08158, -93.39719),\n",
              " (45.14283, -93.27922),\n",
              " (44.97121, -93.37512),\n",
              " (44.93413, -93.27453),\n",
              " (44.85937, -93.35714),\n",
              " (35.34878, -97.49477),\n",
              " (44.96602, -93.26571),\n",
              " (44.8476, -93.24732),\n",
              " (44.73155, -93.28334),\n",
              " (44.88788, -93.37372),\n",
              " (44.96602, -93.26571),\n",
              " (44.96602, -93.26571),\n",
              " (35.323, -97.59629),\n",
              " (36.00798, -96.1246),\n",
              " (43.95552, -92.253067),\n",
              " (45.60368, -94.39531),\n",
              " (45.66654000000001, -94.80678),\n",
              " (41.8957, -91.67148),\n",
              " (33.119352, -96.668825),\n",
              " (32.91175, -96.88006),\n",
              " (44.97041, -93.34599),\n",
              " (33.08336, -96.82417),\n",
              " (32.97639, -96.71549),\n",
              " (30.44555, -97.832116),\n",
              " (39.36578, -94.77095),\n",
              " (39.04097, -94.35547),\n",
              " (41.91233, -90.596104),\n",
              " (38.65063, -90.55032),\n",
              " (41.912336, -90.596113),\n",
              " (38.93876, -94.50454),\n",
              " (38.814617, -104.75764),\n",
              " (44.95968, -93.20027),\n",
              " (38.8152, -104.82453),\n",
              " (40.32821, -104.98035),\n",
              " (38.89132, -104.801945),\n",
              " (44.86177, -93.3138),\n",
              " (45.06028, -93.18714),\n",
              " (39.06349, -94.49942),\n",
              " ...]"
            ]
          },
          "metadata": {},
          "execution_count": 64
        }
      ]
    },
    {
      "cell_type": "code",
      "source": [
        "heat_marker = HeatMap(list(zip(list(df.Start_Lat), list(df.Start_Lng))))"
      ],
      "metadata": {
        "id": "qssFE4MHoRgi"
      },
      "execution_count": null,
      "outputs": []
    },
    {
      "cell_type": "code",
      "source": [
        "heat_marker.add_to(map)\n",
        "map"
      ],
      "metadata": {
        "colab": {
          "base_uri": "https://localhost:8080/",
          "height": 304
        },
        "id": "DBkhDaxToRVj",
        "outputId": "8e40de14-e954-49cf-f76d-36842bdcc01d"
      },
      "execution_count": null,
      "outputs": [
        {
          "output_type": "error",
          "ename": "AttributeError",
          "evalue": "ignored",
          "traceback": [
            "\u001b[0;31m---------------------------------------------------------------------------\u001b[0m",
            "\u001b[0;31mAttributeError\u001b[0m                            Traceback (most recent call last)",
            "\u001b[0;32m<ipython-input-66-3d5a6d4d475b>\u001b[0m in \u001b[0;36m<module>\u001b[0;34m\u001b[0m\n\u001b[0;32m----> 1\u001b[0;31m \u001b[0mheat_marker\u001b[0m\u001b[0;34m.\u001b[0m\u001b[0madd_to\u001b[0m\u001b[0;34m(\u001b[0m\u001b[0mmap\u001b[0m\u001b[0;34m)\u001b[0m\u001b[0;34m\u001b[0m\u001b[0;34m\u001b[0m\u001b[0m\n\u001b[0m\u001b[1;32m      2\u001b[0m \u001b[0mmap\u001b[0m\u001b[0;34m\u001b[0m\u001b[0;34m\u001b[0m\u001b[0m\n",
            "\u001b[0;32m/usr/local/lib/python3.8/dist-packages/branca/element.py\u001b[0m in \u001b[0;36madd_to\u001b[0;34m(self, parent, name, index)\u001b[0m\n\u001b[1;32m    134\u001b[0m     \u001b[0;32mdef\u001b[0m \u001b[0madd_to\u001b[0m\u001b[0;34m(\u001b[0m\u001b[0mself\u001b[0m\u001b[0;34m,\u001b[0m \u001b[0mparent\u001b[0m\u001b[0;34m,\u001b[0m \u001b[0mname\u001b[0m\u001b[0;34m=\u001b[0m\u001b[0;32mNone\u001b[0m\u001b[0;34m,\u001b[0m \u001b[0mindex\u001b[0m\u001b[0;34m=\u001b[0m\u001b[0;32mNone\u001b[0m\u001b[0;34m)\u001b[0m\u001b[0;34m:\u001b[0m\u001b[0;34m\u001b[0m\u001b[0;34m\u001b[0m\u001b[0m\n\u001b[1;32m    135\u001b[0m         \u001b[0;34m\"\"\"Add element to a parent.\"\"\"\u001b[0m\u001b[0;34m\u001b[0m\u001b[0;34m\u001b[0m\u001b[0m\n\u001b[0;32m--> 136\u001b[0;31m         \u001b[0mparent\u001b[0m\u001b[0;34m.\u001b[0m\u001b[0madd_child\u001b[0m\u001b[0;34m(\u001b[0m\u001b[0mself\u001b[0m\u001b[0;34m,\u001b[0m \u001b[0mname\u001b[0m\u001b[0;34m=\u001b[0m\u001b[0mname\u001b[0m\u001b[0;34m,\u001b[0m \u001b[0mindex\u001b[0m\u001b[0;34m=\u001b[0m\u001b[0mindex\u001b[0m\u001b[0;34m)\u001b[0m\u001b[0;34m\u001b[0m\u001b[0;34m\u001b[0m\u001b[0m\n\u001b[0m\u001b[1;32m    137\u001b[0m         \u001b[0;32mreturn\u001b[0m \u001b[0mself\u001b[0m\u001b[0;34m\u001b[0m\u001b[0;34m\u001b[0m\u001b[0m\n\u001b[1;32m    138\u001b[0m \u001b[0;34m\u001b[0m\u001b[0m\n",
            "\u001b[0;31mAttributeError\u001b[0m: type object 'map' has no attribute 'add_child'"
          ]
        }
      ]
    },
    {
      "cell_type": "markdown",
      "source": [
        "#### Weather condition column and temperature column"
      ],
      "metadata": {
        "id": "kZiiQ2xzvZ-g"
      }
    },
    {
      "cell_type": "code",
      "source": [
        "accidents_by_weather = df.Weather_Condition.value_counts()"
      ],
      "metadata": {
        "id": "OSJpo5XkvZKx"
      },
      "execution_count": null,
      "outputs": []
    },
    {
      "cell_type": "code",
      "source": [
        "# how many Weather_Conditions are present?\n",
        "len(df['Weather_Condition'].unique())"
      ],
      "metadata": {
        "colab": {
          "base_uri": "https://localhost:8080/"
        },
        "id": "DlhdCgAVDySf",
        "outputId": "31d788b9-01c3-41ba-e413-ecc1f8ff82ae"
      },
      "execution_count": null,
      "outputs": [
        {
          "output_type": "execute_result",
          "data": {
            "text/plain": [
              "118"
            ]
          },
          "metadata": {},
          "execution_count": 68
        }
      ]
    },
    {
      "cell_type": "code",
      "source": [
        "df['Weather_Condition'].unique()"
      ],
      "metadata": {
        "colab": {
          "base_uri": "https://localhost:8080/"
        },
        "id": "i-R6n5IbHqMP",
        "outputId": "6412bc73-8d2d-4c09-a394-3449d57cea15"
      },
      "execution_count": null,
      "outputs": [
        {
          "output_type": "execute_result",
          "data": {
            "text/plain": [
              "array(['Light Rain', 'Overcast', 'Snow', 'Light Snow', 'Cloudy',\n",
              "       'Mostly Cloudy', 'Scattered Clouds', 'Clear', 'Partly Cloudy',\n",
              "       'Light Freezing Drizzle', 'Light Drizzle', 'Haze', 'Rain', 'Fair',\n",
              "       'Fog', 'Patches of Fog', 'Light Freezing Fog',\n",
              "       'Light Freezing Rain', 'Mist', 'Blowing Snow', 'Heavy Snow',\n",
              "       'Snow Grains', 'Light Fog', 'Drizzle', 'Thunderstorms and Rain',\n",
              "       'Heavy Rain', 'Light Ice Pellets', 'Thunder',\n",
              "       'Thunder in the Vicinity', 'Fair / Windy',\n",
              "       'Light Rain with Thunder', 'Heavy Thunderstorms and Snow',\n",
              "       'Light Snow Showers', 'Cloudy / Windy', 'Heavy Drizzle',\n",
              "       'Ice Pellets', 'N/A Precipitation', 'Light Thunderstorms and Rain',\n",
              "       'Light Thunderstorms and Snow', 'T-Storm', 'Rain / Windy',\n",
              "       'Wintry Mix', 'Heavy Thunderstorms and Rain', 'Smoke',\n",
              "       'Shallow Fog', 'Partly Cloudy / Windy', 'Heavy T-Storm',\n",
              "       'Light Rain / Windy', 'Mostly Cloudy / Windy',\n",
              "       'Blowing Dust / Windy', 'Blowing Dust', 'Freezing Rain / Windy',\n",
              "       'Small Hail', 'Wintry Mix / Windy', 'Light Snow / Windy',\n",
              "       'Heavy Ice Pellets', 'Thunderstorm', 'Heavy Snow / Windy',\n",
              "       'Heavy Rain / Windy', 'Heavy T-Storm / Windy', 'Fog / Windy',\n",
              "       'Light Rain Showers', 'Showers in the Vicinity', 'Thunder / Windy',\n",
              "       'Snow / Windy', 'Haze / Windy', 'Light Snow and Sleet',\n",
              "       'T-Storm / Windy', 'Sand / Dust Whirlwinds',\n",
              "       'Light Snow with Thunder', 'Rain Shower', 'Blowing Snow / Windy',\n",
              "       'Light Rain Shower', 'Snow and Sleet', 'Drizzle and Fog',\n",
              "       'Light Sleet', 'Drizzle / Windy', 'Light Snow Shower',\n",
              "       'Snow and Thunder / Windy', 'Light Sleet / Windy', 'Smoke / Windy',\n",
              "       'Widespread Dust / Windy', 'Light Drizzle / Windy', 'Squalls',\n",
              "       'Tornado', 'Squalls / Windy', 'Hail', 'Blowing Snow Nearby',\n",
              "       'Partial Fog', 'Widespread Dust', 'Sand / Windy',\n",
              "       'Thunder / Wintry Mix', 'Light Freezing Rain / Windy',\n",
              "       'Light Snow and Sleet / Windy', 'Heavy Rain Shower / Windy',\n",
              "       'Sand / Dust Whirlwinds / Windy', 'Light Rain Shower / Windy',\n",
              "       'Thunder and Hail', 'Freezing Rain', 'Heavy Sleet', 'Sleet',\n",
              "       'Freezing Drizzle', 'Snow and Sleet / Windy',\n",
              "       'Heavy Freezing Drizzle', 'Heavy Freezing Rain', 'Blowing Sand',\n",
              "       'Thunder / Wintry Mix / Windy', 'Sleet / Windy',\n",
              "       'Patches of Fog / Windy', 'Sand / Dust Whirls Nearby',\n",
              "       'Heavy Rain Shower', 'Drifting Snow', 'Heavy Blowing Snow',\n",
              "       'Low Drifting Snow', 'Light Blowing Snow',\n",
              "       'Heavy Thunderstorms with Small Hail', 'Heavy Snow with Thunder',\n",
              "       'Thunder and Hail / Windy'], dtype=object)"
            ]
          },
          "metadata": {},
          "execution_count": 74
        }
      ]
    },
    {
      "cell_type": "markdown",
      "source": [
        "118 types of weather conditions. Now that's gonna be interesting!\n",
        "\n",
        "[P.S. : Is it just me or did you all had any idea that weather conditions can exceed beyond rain, fog, cloudy and heat\n"
      ],
      "metadata": {
        "id": "mGMrA_vTEu9m"
      }
    },
    {
      "cell_type": "code",
      "source": [
        "accidents_by_weather[:10]"
      ],
      "metadata": {
        "colab": {
          "base_uri": "https://localhost:8080/"
        },
        "id": "tp2sdn9EDxxB",
        "outputId": "75301873-752e-4888-e834-4d1f30d0f830"
      },
      "execution_count": null,
      "outputs": [
        {
          "output_type": "execute_result",
          "data": {
            "text/plain": [
              "Fair             1087062\n",
              "Cloudy            343577\n",
              "Mostly Cloudy     302387\n",
              "Partly Cloudy     208872\n",
              "Light Rain        108537\n",
              "Light Snow         41916\n",
              "Fog                38824\n",
              "Haze               30539\n",
              "Overcast           26311\n",
              "Rain               25975\n",
              "Name: Weather_Condition, dtype: int64"
            ]
          },
          "metadata": {},
          "execution_count": 70
        }
      ]
    },
    {
      "cell_type": "code",
      "source": [
        "high_accidents_weather = accidents_by_weather[accidents_by_weather > 20000]\n",
        "low_accidents_weather = accidents_by_weather[accidents_by_weather <= 20000]"
      ],
      "metadata": {
        "id": "qNy1_hiWF7BE"
      },
      "execution_count": null,
      "outputs": []
    },
    {
      "cell_type": "code",
      "source": [
        "accidents_by_weather[:10].plot(kind='pie')"
      ],
      "metadata": {
        "colab": {
          "base_uri": "https://localhost:8080/",
          "height": 265
        },
        "id": "WoiWxEOk0Fqw",
        "outputId": "2a6a1d35-459f-4d71-bcac-b6fb0659e1a0"
      },
      "execution_count": null,
      "outputs": [
        {
          "output_type": "execute_result",
          "data": {
            "text/plain": [
              "<matplotlib.axes._subplots.AxesSubplot at 0x7fe8178db040>"
            ]
          },
          "metadata": {},
          "execution_count": 74
        },
        {
          "output_type": "display_data",
          "data": {
            "text/plain": [
              "<Figure size 432x288 with 1 Axes>"
            ],
            "image/png": "[encoded data removed]"
          },
          "metadata": {}
        }
      ]
    },
    {
      "cell_type": "markdown",
      "source": [
        "The above pie chart is self explainatory. How ironic that most accidents occur when absolute nothing is wrong with the weather!"
      ],
      "metadata": {
        "id": "dWnf9A-wHCIX"
      }
    },
    {
      "cell_type": "code",
      "source": [
        "fair_weather_percent = accidents_by_weather[0]/ high_accidents_weather.sum()"
      ],
      "metadata": {
        "id": "I6dRFKZGrmMJ"
      },
      "execution_count": null,
      "outputs": []
    },
    {
      "cell_type": "code",
      "source": [
        "print(f\"{fair_weather_percent * 100: .2f} % of accidents are caused by the fair weather.\")"
      ],
      "metadata": {
        "colab": {
          "base_uri": "https://localhost:8080/"
        },
        "id": "9COuLSSZJfTk",
        "outputId": "62618268-f034-4353-d618-f188610390b0"
      },
      "execution_count": null,
      "outputs": [
        {
          "output_type": "stream",
          "name": "stdout",
          "text": [
            " 48.53 % of accidents are caused by the fair weather.\n"
          ]
        }
      ]
    },
    {
      "cell_type": "code",
      "source": [
        "temperatures = df['Temperature(F)']\n",
        "temperature = np.array(temperatures)"
      ],
      "metadata": {
        "id": "EIE3eJvQy8sN"
      },
      "execution_count": null,
      "outputs": []
    },
    {
      "cell_type": "code",
      "source": [
        "warm_temperatures = temperatures[temperatures > 62]\n",
        "percent_warm_temperatures = len(warm_temperatures)/len(temperatures)\n",
        "percent_cold_temperatures = len(temperatures[temperatures < 62])/len(temperatures)"
      ],
      "metadata": {
        "id": "06IUTd0ByIA3"
      },
      "execution_count": null,
      "outputs": []
    },
    {
      "cell_type": "code",
      "source": [
        "print(f\"{percent_warm_temperatures * 100:.2f} % accidents are caused in areas with warm temperatures\")"
      ],
      "metadata": {
        "colab": {
          "base_uri": "https://localhost:8080/"
        },
        "id": "o3jz3_jn0p4_",
        "outputId": "d5240c50-95b3-4150-b6b4-dce9ffe9d386"
      },
      "execution_count": null,
      "outputs": [
        {
          "output_type": "stream",
          "name": "stdout",
          "text": [
            "50.80 % accidents are caused in areas with warm temperatures\n"
          ]
        }
      ]
    },
    {
      "cell_type": "code",
      "source": [
        "print(f\"{percent_cold_temperatures * 100:.2f} % accidents are caused in areas with warm temperatures\")"
      ],
      "metadata": {
        "colab": {
          "base_uri": "https://localhost:8080/"
        },
        "id": "PL_6TkRxzLVj",
        "outputId": "47f96b91-ecc3-4a87-ec12-4c8b6ab64b12"
      },
      "execution_count": null,
      "outputs": [
        {
          "output_type": "stream",
          "name": "stdout",
          "text": [
            "47.67 % accidents are caused in areas with warm temperatures\n"
          ]
        }
      ]
    },
    {
      "cell_type": "markdown",
      "source": [
        "#### States column"
      ],
      "metadata": {
        "id": "TJJ2zBWq4hiA"
      }
    },
    {
      "cell_type": "code",
      "source": [
        "states_by_accidents = df.State.value_counts()"
      ],
      "metadata": {
        "id": "-pNNQNaWzO43"
      },
      "execution_count": null,
      "outputs": []
    },
    {
      "cell_type": "code",
      "source": [
        "states_by_accidents[:5].plot(kind='pie')"
      ],
      "metadata": {
        "colab": {
          "base_uri": "https://localhost:8080/",
          "height": 265
        },
        "id": "nZB-GheqzOrZ",
        "outputId": "dc0a2010-07b8-42b7-bf6e-2d91878f6c5d"
      },
      "execution_count": null,
      "outputs": [
        {
          "output_type": "execute_result",
          "data": {
            "text/plain": [
              "<matplotlib.axes._subplots.AxesSubplot at 0x7fe81765ecd0>"
            ]
          },
          "metadata": {},
          "execution_count": 101
        },
        {
          "output_type": "display_data",
          "data": {
            "text/plain": [
              "<Figure size 432x288 with 1 Axes>"
            ],
            "image/png": "[encoded data removed]"
          },
          "metadata": {}
        }
      ]
    },
    {
      "cell_type": "code",
      "source": [
        "sns.distplot(states_by_accidents)"
      ],
      "metadata": {
        "colab": {
          "base_uri": "https://localhost:8080/",
          "height": 362
        },
        "id": "1zjWcAeozN70",
        "outputId": "a90c2c18-8f51-4274-88cc-51967b9a038c"
      },
      "execution_count": null,
      "outputs": [
        {
          "output_type": "stream",
          "name": "stderr",
          "text": [
            "/usr/local/lib/python3.8/dist-packages/seaborn/distributions.py:2619: FutureWarning: `distplot` is a deprecated function and will be removed in a future version. Please adapt your code to use either `displot` (a figure-level function with similar flexibility) or `histplot` (an axes-level function for histograms).\n",
            "  warnings.warn(msg, FutureWarning)\n"
          ]
        },
        {
          "output_type": "execute_result",
          "data": {
            "text/plain": [
              "<matplotlib.axes._subplots.AxesSubplot at 0x7fe8176defa0>"
            ]
          },
          "metadata": {},
          "execution_count": 102
        },
        {
          "output_type": "display_data",
          "data": {
            "text/plain": [
              "<Figure size 432x288 with 1 Axes>"
            ],
            "image/png": "[encoded data removed]"
          },
          "metadata": {}
        }
      ]
    },
    {
      "cell_type": "code",
      "source": [
        "high_accident_states = states_by_accidents[states_by_accidents > 1000 ]\n",
        "low_accident_states = states_by_accidents[states_by_accidents <= 1000 ]"
      ],
      "metadata": {
        "id": "mYaJvgV-7T44"
      },
      "execution_count": null,
      "outputs": []
    },
    {
      "cell_type": "code",
      "source": [
        "sns.distplot(high_accident_states, bins=10, kde=False, norm_hist=True)"
      ],
      "metadata": {
        "colab": {
          "base_uri": "https://localhost:8080/",
          "height": 362
        },
        "id": "c89ImNzE7T1i",
        "outputId": "bb7a55d6-ee80-49ab-b1e8-2d6a82314f81"
      },
      "execution_count": null,
      "outputs": [
        {
          "output_type": "stream",
          "name": "stderr",
          "text": [
            "/usr/local/lib/python3.8/dist-packages/seaborn/distributions.py:2619: FutureWarning: `distplot` is a deprecated function and will be removed in a future version. Please adapt your code to use either `displot` (a figure-level function with similar flexibility) or `histplot` (an axes-level function for histograms).\n",
            "  warnings.warn(msg, FutureWarning)\n"
          ]
        },
        {
          "output_type": "execute_result",
          "data": {
            "text/plain": [
              "<matplotlib.axes._subplots.AxesSubplot at 0x7fe8178f8880>"
            ]
          },
          "metadata": {},
          "execution_count": 104
        },
        {
          "output_type": "display_data",
          "data": {
            "text/plain": [
              "<Figure size 432x288 with 1 Axes>"
            ],
            "image/png": "[encoded data removed]"
          },
          "metadata": {}
        }
      ]
    },
    {
      "cell_type": "markdown",
      "source": [
        "## **Summary and Conclusion**\n",
        "\n",
        "**Some assumption about the dataset**:\n",
        "\n",
        "* No data for 2-3 States (including new york)\n",
        "* Some of the cities present in the dataset are not in the United States.\n",
        "* Source column has been removed in the updated version. Hence, source-related analysis cannot be performed. Also, there is a lot less missing data in the updated version of the dataset.\n",
        "\n",
        "**City Column Insights**\n",
        "\n",
        "*  3.86 % of cities have over 1000 accidents annually.\n",
        "*  Top accident cities include Maimi, Los Angeles, Orlando, Dallas and Houston.\n",
        "* 1.2% cities have 45.38 % acidents, which is top 125 of the total ciities!\n",
        "* Top 1% of the total cities have 42.51% of accidents!\n",
        "* Over 1200 cities have reported just one accident.That is because they are relatively small cities with a smaller population and hence, data may or may not have been properly noted.\n",
        "\n",
        "**States Column Insights**\n",
        "* California has the highest percent of accidents.Nearly 50% of all the accidents in the US happen in California.\n",
        "* California, Florida and Texas are the states with more than 80 % of all accidents, which also confirms the analysis of our city column as all of the top 5 cities belong to these states.\n",
        "\n",
        "**Time Column Insights**\n",
        "\n",
        "* A high percentage of accidents occur during 3 pm - 6 pm (Probably people in a hurry to leave work or traffic higher)\n",
        "* Next highest percentage of accidents occur during 8 am - 10 am.\n",
        "* On Weekends, the accidents usually occur between 10 am to 3 pm. In contrast, on weekdays, the accidents occur usually between 8 am - 10 am as the second highest, and 3 pm - 6 pm as the highest.\n",
        "* Accidents occuring in winter are much higher than those occuring in summer. (month-wise analysis)\n",
        "* The yearly trend of accidents gives a much better insight on the number of accidents taking place in each month for that particular year. The data for January 2016 and a few months of the year 2020 is missing. It should be noted here that missing data does NOT constitute major chunk and it can fixed.\n",
        "\n",
        "**Start Latitude and Start Longitude Column Insights**\n",
        "* The scatterplot depicts that concentration of the accidents is much higher on the coastal and urban areas than in the central parts of the country.\n",
        "\n",
        "**Weather Column Insights**\n",
        "* 48.53 % of accidents are caused by the fair weather.\n",
        "* The percentage of accidents in extreme weather conditions like snowfall or thunderstorm is ironically low, as shown in the pie chart.\n",
        "\n",
        "**Temperature Column Insights**\n",
        "* 50.80 % accidents are caused in areas with warm temperatures.\n",
        "* 47.67 % accidents are caused in areas with cold temperatures.\n",
        "* It shall be noted here that the warm temperatures are temperatures above 62 F while cold are below it. This analysis can vary with the baseline as to what one percieves as \"warm\" or \"cold\".\n",
        "\n",
        "\n"
      ],
      "metadata": {
        "id": "GmNf7uanO7un"
      }
    }
  ]
}